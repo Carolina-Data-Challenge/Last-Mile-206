{
 "metadata": {
  "language_info": {
   "codemirror_mode": {
    "name": "ipython",
    "version": 3
   },
   "file_extension": ".py",
   "mimetype": "text/x-python",
   "name": "python",
   "nbconvert_exporter": "python",
   "pygments_lexer": "ipython3",
   "version": "3.8.6-final"
  },
  "orig_nbformat": 2,
  "kernelspec": {
   "name": "Python 3.8.6 64-bit",
   "display_name": "Python 3.8.6 64-bit",
   "metadata": {
    "interpreter": {
     "hash": "291ada4285d81b7724775da889f1025824cfcf5691e48ef89418ffd1713b1d97"
    }
   }
  }
 },
 "nbformat": 4,
 "nbformat_minor": 2,
 "cells": [
  {
   "cell_type": "code",
   "execution_count": 21,
   "metadata": {},
   "outputs": [],
   "source": [
    "import csv\n",
    "import numpy as np\n",
    "import pandas as pd\n",
    "import matplotlib.pyplot as plt"
   ]
  },
  {
   "cell_type": "code",
   "execution_count": 2,
   "metadata": {},
   "outputs": [],
   "source": [
    "CSV_PATH = 'D:\\\\Datasets\\\\bot-iot-10\\\\10-best Training-Testing split\\\\UNSW_2018_IoT_Botnet_Final_10_best_Training.csv'"
   ]
  },
  {
   "cell_type": "code",
   "execution_count": 17,
   "metadata": {
    "tags": []
   },
   "outputs": [
    {
     "output_type": "stream",
     "name": "stdout",
     "text": "['pkSeqID', 'proto', 'saddr', 'sport', 'daddr', 'dport', 'seq', 'stddev', 'N_IN_Conn_P_SrcIP', 'min', 'state_number', 'mean', 'N_IN_Conn_P_DstIP', 'drate', 'srate', 'max', 'attack', 'category', 'subcategory']\n['3142762', 'udp', '192.168.100.150', '6551', '192.168.100.3', '80', '251984', '1.900363', '100', '0.0', '4', '2.687519', '100', '0.0', '0.494549', '4.031619', '1', 'DDoS', 'UDP']\n['2432264', 'tcp', '192.168.100.150', '5532', '192.168.100.3', '80', '256724', '0.078003', '38', '3.85693', '3', '3.934927', '100', '0.0', '0.256493', '4.012924', '1', 'DDoS', 'TCP']\n['1976315', 'tcp', '192.168.100.147', '27165', '192.168.100.3', '80', '62921', '0.268666', '100', '2.9741', '3', '3.341429', '100', '0.0', '0.29488000000000003', '3.609205', '1', 'DDoS', 'TCP']\n['1240757', 'udp', '192.168.100.150', '48719', '192.168.100.3', '80', '99168', '1.823185', '63', '0.0', '4', '3.222832', '63', '0.0', '0.461435', '4.942302', '1', 'DoS', 'UDP']\n['3257991', 'udp', '192.168.100.147', '22461', '192.168.100.3', '80', '105063', '0.822418', '100', '2.979995', '4', '3.983222', '100', '0.0', '1.002999', '4.994452', '1', 'DDoS', 'UDP']\n['409928', 'tcp', '192.168.100.147', '25305', '192.168.100.7', '80', '146299', '1.755521', '100', '0.0', '3', '1.01355', '100', '0.0', '0.17865', '4.054201', '1', 'DoS', 'TCP']\n['3406860', 'udp', '192.168.100.150', '31712', '192.168.100.3', '80', '253932', '1.928021', '100', '0.0', '4', '2.726619', '100', '0.0', '0.490708', '4.097849', '1', 'DDoS', 'UDP']\n['787741', 'udp', '192.168.100.149', '33530', '192.168.100.5', '80', '170464', '2.113912', '100', '0.0', '4', '2.112801', '100', '0.0', '0.209328', '4.322539', '1', 'DoS', 'UDP']\n['1429027', 'udp', '192.168.100.148', '108', '192.168.100.6', '80', '25284', '0.028597000000000008', '100', '4.002665', '4', '4.046831', '100', '0.0', '0.247826', '4.082324', '1', 'DoS', 'UDP']\n['56836', 'tcp', '192.168.100.148', '19521', '192.168.100.6', '80', '55359', '0.117809', '78', '0.0', '1', '0.061803', '78', '0.038164', '0.127681', '0.297244', '1', 'DoS', 'TCP']\n"
    }
   ],
   "source": [
    "# Using csv\n",
    "counter = 0\n",
    "bot_data = []\n",
    "with open(CSV_PATH, 'r') as file:\n",
    "    reader = csv.reader(file)\n",
    "D:\\\\Datasets\\\\bot-iot-10\\\\10-best Training-Testing split\\\\UNSW_2018_IoT_Botnet_Final_10_best_Training.c\n",
    "        print(row)\n",
    "        bot_data.append(row)\n",
    "        if counter == 10:\n",
    "            break"
   ]
  },
  {
   "cell_type": "code",
   "execution_count": 24,
   "metadata": {
    "tags": []
   },
   "outputs": [
    {
     "output_type": "stream",
     "name": "stdout",
     "text": "0.0\n3.85693\n2.9741\n0.0\n2.979995\n0.0\n0.0\n0.0\n4.002665\n"
    }
   ],
   "source": [
    "# Matplot\n",
    "#plt(reader)\n",
    "count = 0\n",
    "column = []\n",
    "for count in range(1, 10):\n",
    "    column.append(bot_data[count][9])\n",
    "    print(bot_data[count][9])"
   ]
  },
  {
   "cell_type": "code",
   "execution_count": 26,
   "metadata": {},
   "outputs": [
    {
     "output_type": "display_data",
     "data": {
      "text/plain": "<Figure size 432x288 with 1 Axes>",
      "image/svg+xml": "<?xml version=\"1.0\" encoding=\"utf-8\" standalone=\"no\"?>\r\n<!DOCTYPE svg PUBLIC \"-//W3C//DTD SVG 1.1//EN\"\r\n  \"http://www.w3.org/Graphics/SVG/1.1/DTD/svg11.dtd\">\r\n<!-- Created with matplotlib (https://matplotlib.org/) -->\r\n<svg height=\"248.518125pt\" version=\"1.1\" viewBox=\"0 0 403.915625 248.518125\" width=\"403.915625pt\" xmlns=\"http://www.w3.org/2000/svg\" xmlns:xlink=\"http://www.w3.org/1999/xlink\">\r\n <metadata>\r\n  <rdf:RDF xmlns:cc=\"http://creativecommons.org/ns#\" xmlns:dc=\"http://purl.org/dc/elements/1.1/\" xmlns:rdf=\"http://www.w3.org/1999/02/22-rdf-syntax-ns#\">\r\n   <cc:Work>\r\n    <dc:type rdf:resource=\"http://purl.org/dc/dcmitype/StillImage\"/>\r\n    <dc:date>2020-09-29T16:11:55.829807</dc:date>\r\n    <dc:format>image/svg+xml</dc:format>\r\n    <dc:creator>\r\n     <cc:Agent>\r\n      <dc:title>Matplotlib v3.3.1, https://matplotlib.org/</dc:title>\r\n     </cc:Agent>\r\n    </dc:creator>\r\n   </cc:Work>\r\n  </rdf:RDF>\r\n </metadata>\r\n <defs>\r\n  <style type=\"text/css\">*{stroke-linecap:butt;stroke-linejoin:round;}</style>\r\n </defs>\r\n <g id=\"figure_1\">\r\n  <g id=\"patch_1\">\r\n   <path d=\"M 0 248.518125 \r\nL 403.915625 248.518125 \r\nL 403.915625 0 \r\nL 0 0 \r\nz\r\n\" style=\"fill:none;\"/>\r\n  </g>\r\n  <g id=\"axes_1\">\r\n   <g id=\"patch_2\">\r\n    <path d=\"M 61.915625 224.64 \r\nL 396.715625 224.64 \r\nL 396.715625 7.2 \r\nL 61.915625 7.2 \r\nz\r\n\" style=\"fill:#ffffff;\"/>\r\n   </g>\r\n   <g id=\"matplotlib.axis_1\">\r\n    <g id=\"xtick_1\">\r\n     <g id=\"line2d_1\">\r\n      <defs>\r\n       <path d=\"M 0 0 \r\nL 0 3.5 \r\n\" id=\"m097f336f05\" style=\"stroke:#000000;stroke-width:0.8;\"/>\r\n      </defs>\r\n      <g>\r\n       <use style=\"stroke:#000000;stroke-width:0.8;\" x=\"77.133807\" xlink:href=\"#m097f336f05\" y=\"224.64\"/>\r\n      </g>\r\n     </g>\r\n     <g id=\"text_1\">\r\n      <!-- 0 -->\r\n      <g transform=\"translate(73.952557 239.238437)scale(0.1 -0.1)\">\r\n       <defs>\r\n        <path d=\"M 31.78125 66.40625 \r\nQ 24.171875 66.40625 20.328125 58.90625 \r\nQ 16.5 51.421875 16.5 36.375 \r\nQ 16.5 21.390625 20.328125 13.890625 \r\nQ 24.171875 6.390625 31.78125 6.390625 \r\nQ 39.453125 6.390625 43.28125 13.890625 \r\nQ 47.125 21.390625 47.125 36.375 \r\nQ 47.125 51.421875 43.28125 58.90625 \r\nQ 39.453125 66.40625 31.78125 66.40625 \r\nz\r\nM 31.78125 74.21875 \r\nQ 44.046875 74.21875 50.515625 64.515625 \r\nQ 56.984375 54.828125 56.984375 36.375 \r\nQ 56.984375 17.96875 50.515625 8.265625 \r\nQ 44.046875 -1.421875 31.78125 -1.421875 \r\nQ 19.53125 -1.421875 13.0625 8.265625 \r\nQ 6.59375 17.96875 6.59375 36.375 \r\nQ 6.59375 54.828125 13.0625 64.515625 \r\nQ 19.53125 74.21875 31.78125 74.21875 \r\nz\r\n\" id=\"DejaVuSans-48\"/>\r\n       </defs>\r\n       <use xlink:href=\"#DejaVuSans-48\"/>\r\n      </g>\r\n     </g>\r\n    </g>\r\n    <g id=\"xtick_2\">\r\n     <g id=\"line2d_2\">\r\n      <g>\r\n       <use style=\"stroke:#000000;stroke-width:0.8;\" x=\"115.179261\" xlink:href=\"#m097f336f05\" y=\"224.64\"/>\r\n      </g>\r\n     </g>\r\n     <g id=\"text_2\">\r\n      <!-- 1 -->\r\n      <g transform=\"translate(111.998011 239.238437)scale(0.1 -0.1)\">\r\n       <defs>\r\n        <path d=\"M 12.40625 8.296875 \r\nL 28.515625 8.296875 \r\nL 28.515625 63.921875 \r\nL 10.984375 60.40625 \r\nL 10.984375 69.390625 \r\nL 28.421875 72.90625 \r\nL 38.28125 72.90625 \r\nL 38.28125 8.296875 \r\nL 54.390625 8.296875 \r\nL 54.390625 0 \r\nL 12.40625 0 \r\nz\r\n\" id=\"DejaVuSans-49\"/>\r\n       </defs>\r\n       <use xlink:href=\"#DejaVuSans-49\"/>\r\n      </g>\r\n     </g>\r\n    </g>\r\n    <g id=\"xtick_3\">\r\n     <g id=\"line2d_3\">\r\n      <g>\r\n       <use style=\"stroke:#000000;stroke-width:0.8;\" x=\"153.224716\" xlink:href=\"#m097f336f05\" y=\"224.64\"/>\r\n      </g>\r\n     </g>\r\n     <g id=\"text_3\">\r\n      <!-- 2 -->\r\n      <g transform=\"translate(150.043466 239.238437)scale(0.1 -0.1)\">\r\n       <defs>\r\n        <path d=\"M 19.1875 8.296875 \r\nL 53.609375 8.296875 \r\nL 53.609375 0 \r\nL 7.328125 0 \r\nL 7.328125 8.296875 \r\nQ 12.9375 14.109375 22.625 23.890625 \r\nQ 32.328125 33.6875 34.8125 36.53125 \r\nQ 39.546875 41.84375 41.421875 45.53125 \r\nQ 43.3125 49.21875 43.3125 52.78125 \r\nQ 43.3125 58.59375 39.234375 62.25 \r\nQ 35.15625 65.921875 28.609375 65.921875 \r\nQ 23.96875 65.921875 18.8125 64.3125 \r\nQ 13.671875 62.703125 7.8125 59.421875 \r\nL 7.8125 69.390625 \r\nQ 13.765625 71.78125 18.9375 73 \r\nQ 24.125 74.21875 28.421875 74.21875 \r\nQ 39.75 74.21875 46.484375 68.546875 \r\nQ 53.21875 62.890625 53.21875 53.421875 \r\nQ 53.21875 48.921875 51.53125 44.890625 \r\nQ 49.859375 40.875 45.40625 35.40625 \r\nQ 44.1875 33.984375 37.640625 27.21875 \r\nQ 31.109375 20.453125 19.1875 8.296875 \r\nz\r\n\" id=\"DejaVuSans-50\"/>\r\n       </defs>\r\n       <use xlink:href=\"#DejaVuSans-50\"/>\r\n      </g>\r\n     </g>\r\n    </g>\r\n    <g id=\"xtick_4\">\r\n     <g id=\"line2d_4\">\r\n      <g>\r\n       <use style=\"stroke:#000000;stroke-width:0.8;\" x=\"191.27017\" xlink:href=\"#m097f336f05\" y=\"224.64\"/>\r\n      </g>\r\n     </g>\r\n     <g id=\"text_4\">\r\n      <!-- 3 -->\r\n      <g transform=\"translate(188.08892 239.238437)scale(0.1 -0.1)\">\r\n       <defs>\r\n        <path d=\"M 40.578125 39.3125 \r\nQ 47.65625 37.796875 51.625 33 \r\nQ 55.609375 28.21875 55.609375 21.1875 \r\nQ 55.609375 10.40625 48.1875 4.484375 \r\nQ 40.765625 -1.421875 27.09375 -1.421875 \r\nQ 22.515625 -1.421875 17.65625 -0.515625 \r\nQ 12.796875 0.390625 7.625 2.203125 \r\nL 7.625 11.71875 \r\nQ 11.71875 9.328125 16.59375 8.109375 \r\nQ 21.484375 6.890625 26.8125 6.890625 \r\nQ 36.078125 6.890625 40.9375 10.546875 \r\nQ 45.796875 14.203125 45.796875 21.1875 \r\nQ 45.796875 27.640625 41.28125 31.265625 \r\nQ 36.765625 34.90625 28.71875 34.90625 \r\nL 20.21875 34.90625 \r\nL 20.21875 43.015625 \r\nL 29.109375 43.015625 \r\nQ 36.375 43.015625 40.234375 45.921875 \r\nQ 44.09375 48.828125 44.09375 54.296875 \r\nQ 44.09375 59.90625 40.109375 62.90625 \r\nQ 36.140625 65.921875 28.71875 65.921875 \r\nQ 24.65625 65.921875 20.015625 65.03125 \r\nQ 15.375 64.15625 9.8125 62.3125 \r\nL 9.8125 71.09375 \r\nQ 15.4375 72.65625 20.34375 73.4375 \r\nQ 25.25 74.21875 29.59375 74.21875 \r\nQ 40.828125 74.21875 47.359375 69.109375 \r\nQ 53.90625 64.015625 53.90625 55.328125 \r\nQ 53.90625 49.265625 50.4375 45.09375 \r\nQ 46.96875 40.921875 40.578125 39.3125 \r\nz\r\n\" id=\"DejaVuSans-51\"/>\r\n       </defs>\r\n       <use xlink:href=\"#DejaVuSans-51\"/>\r\n      </g>\r\n     </g>\r\n    </g>\r\n    <g id=\"xtick_5\">\r\n     <g id=\"line2d_5\">\r\n      <g>\r\n       <use style=\"stroke:#000000;stroke-width:0.8;\" x=\"229.315625\" xlink:href=\"#m097f336f05\" y=\"224.64\"/>\r\n      </g>\r\n     </g>\r\n     <g id=\"text_5\">\r\n      <!-- 4 -->\r\n      <g transform=\"translate(226.134375 239.238437)scale(0.1 -0.1)\">\r\n       <defs>\r\n        <path d=\"M 37.796875 64.3125 \r\nL 12.890625 25.390625 \r\nL 37.796875 25.390625 \r\nz\r\nM 35.203125 72.90625 \r\nL 47.609375 72.90625 \r\nL 47.609375 25.390625 \r\nL 58.015625 25.390625 \r\nL 58.015625 17.1875 \r\nL 47.609375 17.1875 \r\nL 47.609375 0 \r\nL 37.796875 0 \r\nL 37.796875 17.1875 \r\nL 4.890625 17.1875 \r\nL 4.890625 26.703125 \r\nz\r\n\" id=\"DejaVuSans-52\"/>\r\n       </defs>\r\n       <use xlink:href=\"#DejaVuSans-52\"/>\r\n      </g>\r\n     </g>\r\n    </g>\r\n    <g id=\"xtick_6\">\r\n     <g id=\"line2d_6\">\r\n      <g>\r\n       <use style=\"stroke:#000000;stroke-width:0.8;\" x=\"267.36108\" xlink:href=\"#m097f336f05\" y=\"224.64\"/>\r\n      </g>\r\n     </g>\r\n     <g id=\"text_6\">\r\n      <!-- 5 -->\r\n      <g transform=\"translate(264.17983 239.238437)scale(0.1 -0.1)\">\r\n       <defs>\r\n        <path d=\"M 10.796875 72.90625 \r\nL 49.515625 72.90625 \r\nL 49.515625 64.59375 \r\nL 19.828125 64.59375 \r\nL 19.828125 46.734375 \r\nQ 21.96875 47.46875 24.109375 47.828125 \r\nQ 26.265625 48.1875 28.421875 48.1875 \r\nQ 40.625 48.1875 47.75 41.5 \r\nQ 54.890625 34.8125 54.890625 23.390625 \r\nQ 54.890625 11.625 47.5625 5.09375 \r\nQ 40.234375 -1.421875 26.90625 -1.421875 \r\nQ 22.3125 -1.421875 17.546875 -0.640625 \r\nQ 12.796875 0.140625 7.71875 1.703125 \r\nL 7.71875 11.625 \r\nQ 12.109375 9.234375 16.796875 8.0625 \r\nQ 21.484375 6.890625 26.703125 6.890625 \r\nQ 35.15625 6.890625 40.078125 11.328125 \r\nQ 45.015625 15.765625 45.015625 23.390625 \r\nQ 45.015625 31 40.078125 35.4375 \r\nQ 35.15625 39.890625 26.703125 39.890625 \r\nQ 22.75 39.890625 18.8125 39.015625 \r\nQ 14.890625 38.140625 10.796875 36.28125 \r\nz\r\n\" id=\"DejaVuSans-53\"/>\r\n       </defs>\r\n       <use xlink:href=\"#DejaVuSans-53\"/>\r\n      </g>\r\n     </g>\r\n    </g>\r\n    <g id=\"xtick_7\">\r\n     <g id=\"line2d_7\">\r\n      <g>\r\n       <use style=\"stroke:#000000;stroke-width:0.8;\" x=\"305.406534\" xlink:href=\"#m097f336f05\" y=\"224.64\"/>\r\n      </g>\r\n     </g>\r\n     <g id=\"text_7\">\r\n      <!-- 6 -->\r\n      <g transform=\"translate(302.225284 239.238437)scale(0.1 -0.1)\">\r\n       <defs>\r\n        <path d=\"M 33.015625 40.375 \r\nQ 26.375 40.375 22.484375 35.828125 \r\nQ 18.609375 31.296875 18.609375 23.390625 \r\nQ 18.609375 15.53125 22.484375 10.953125 \r\nQ 26.375 6.390625 33.015625 6.390625 \r\nQ 39.65625 6.390625 43.53125 10.953125 \r\nQ 47.40625 15.53125 47.40625 23.390625 \r\nQ 47.40625 31.296875 43.53125 35.828125 \r\nQ 39.65625 40.375 33.015625 40.375 \r\nz\r\nM 52.59375 71.296875 \r\nL 52.59375 62.3125 \r\nQ 48.875 64.0625 45.09375 64.984375 \r\nQ 41.3125 65.921875 37.59375 65.921875 \r\nQ 27.828125 65.921875 22.671875 59.328125 \r\nQ 17.53125 52.734375 16.796875 39.40625 \r\nQ 19.671875 43.65625 24.015625 45.921875 \r\nQ 28.375 48.1875 33.59375 48.1875 \r\nQ 44.578125 48.1875 50.953125 41.515625 \r\nQ 57.328125 34.859375 57.328125 23.390625 \r\nQ 57.328125 12.15625 50.6875 5.359375 \r\nQ 44.046875 -1.421875 33.015625 -1.421875 \r\nQ 20.359375 -1.421875 13.671875 8.265625 \r\nQ 6.984375 17.96875 6.984375 36.375 \r\nQ 6.984375 53.65625 15.1875 63.9375 \r\nQ 23.390625 74.21875 37.203125 74.21875 \r\nQ 40.921875 74.21875 44.703125 73.484375 \r\nQ 48.484375 72.75 52.59375 71.296875 \r\nz\r\n\" id=\"DejaVuSans-54\"/>\r\n       </defs>\r\n       <use xlink:href=\"#DejaVuSans-54\"/>\r\n      </g>\r\n     </g>\r\n    </g>\r\n    <g id=\"xtick_8\">\r\n     <g id=\"line2d_8\">\r\n      <g>\r\n       <use style=\"stroke:#000000;stroke-width:0.8;\" x=\"343.451989\" xlink:href=\"#m097f336f05\" y=\"224.64\"/>\r\n      </g>\r\n     </g>\r\n     <g id=\"text_8\">\r\n      <!-- 7 -->\r\n      <g transform=\"translate(340.270739 239.238437)scale(0.1 -0.1)\">\r\n       <defs>\r\n        <path d=\"M 8.203125 72.90625 \r\nL 55.078125 72.90625 \r\nL 55.078125 68.703125 \r\nL 28.609375 0 \r\nL 18.3125 0 \r\nL 43.21875 64.59375 \r\nL 8.203125 64.59375 \r\nz\r\n\" id=\"DejaVuSans-55\"/>\r\n       </defs>\r\n       <use xlink:href=\"#DejaVuSans-55\"/>\r\n      </g>\r\n     </g>\r\n    </g>\r\n    <g id=\"xtick_9\">\r\n     <g id=\"line2d_9\">\r\n      <g>\r\n       <use style=\"stroke:#000000;stroke-width:0.8;\" x=\"381.497443\" xlink:href=\"#m097f336f05\" y=\"224.64\"/>\r\n      </g>\r\n     </g>\r\n     <g id=\"text_9\">\r\n      <!-- 8 -->\r\n      <g transform=\"translate(378.316193 239.238437)scale(0.1 -0.1)\">\r\n       <defs>\r\n        <path d=\"M 31.78125 34.625 \r\nQ 24.75 34.625 20.71875 30.859375 \r\nQ 16.703125 27.09375 16.703125 20.515625 \r\nQ 16.703125 13.921875 20.71875 10.15625 \r\nQ 24.75 6.390625 31.78125 6.390625 \r\nQ 38.8125 6.390625 42.859375 10.171875 \r\nQ 46.921875 13.96875 46.921875 20.515625 \r\nQ 46.921875 27.09375 42.890625 30.859375 \r\nQ 38.875 34.625 31.78125 34.625 \r\nz\r\nM 21.921875 38.8125 \r\nQ 15.578125 40.375 12.03125 44.71875 \r\nQ 8.5 49.078125 8.5 55.328125 \r\nQ 8.5 64.0625 14.71875 69.140625 \r\nQ 20.953125 74.21875 31.78125 74.21875 \r\nQ 42.671875 74.21875 48.875 69.140625 \r\nQ 55.078125 64.0625 55.078125 55.328125 \r\nQ 55.078125 49.078125 51.53125 44.71875 \r\nQ 48 40.375 41.703125 38.8125 \r\nQ 48.828125 37.15625 52.796875 32.3125 \r\nQ 56.78125 27.484375 56.78125 20.515625 \r\nQ 56.78125 9.90625 50.3125 4.234375 \r\nQ 43.84375 -1.421875 31.78125 -1.421875 \r\nQ 19.734375 -1.421875 13.25 4.234375 \r\nQ 6.78125 9.90625 6.78125 20.515625 \r\nQ 6.78125 27.484375 10.78125 32.3125 \r\nQ 14.796875 37.15625 21.921875 38.8125 \r\nz\r\nM 18.3125 54.390625 \r\nQ 18.3125 48.734375 21.84375 45.5625 \r\nQ 25.390625 42.390625 31.78125 42.390625 \r\nQ 38.140625 42.390625 41.71875 45.5625 \r\nQ 45.3125 48.734375 45.3125 54.390625 \r\nQ 45.3125 60.0625 41.71875 63.234375 \r\nQ 38.140625 66.40625 31.78125 66.40625 \r\nQ 25.390625 66.40625 21.84375 63.234375 \r\nQ 18.3125 60.0625 18.3125 54.390625 \r\nz\r\n\" id=\"DejaVuSans-56\"/>\r\n       </defs>\r\n       <use xlink:href=\"#DejaVuSans-56\"/>\r\n      </g>\r\n     </g>\r\n    </g>\r\n   </g>\r\n   <g id=\"matplotlib.axis_2\">\r\n    <g id=\"ytick_1\">\r\n     <g id=\"line2d_10\">\r\n      <defs>\r\n       <path d=\"M 0 0 \r\nL -3.5 0 \r\n\" id=\"md22088db95\" style=\"stroke:#000000;stroke-width:0.8;\"/>\r\n      </defs>\r\n      <g>\r\n       <use style=\"stroke:#000000;stroke-width:0.8;\" x=\"61.915625\" xlink:href=\"#md22088db95\" y=\"214.756364\"/>\r\n      </g>\r\n     </g>\r\n     <g id=\"text_10\">\r\n      <!-- 0.0 -->\r\n      <g transform=\"translate(39.0125 218.555582)scale(0.1 -0.1)\">\r\n       <defs>\r\n        <path d=\"M 10.6875 12.40625 \r\nL 21 12.40625 \r\nL 21 0 \r\nL 10.6875 0 \r\nz\r\n\" id=\"DejaVuSans-46\"/>\r\n       </defs>\r\n       <use xlink:href=\"#DejaVuSans-48\"/>\r\n       <use x=\"63.623047\" xlink:href=\"#DejaVuSans-46\"/>\r\n       <use x=\"95.410156\" xlink:href=\"#DejaVuSans-48\"/>\r\n      </g>\r\n     </g>\r\n    </g>\r\n    <g id=\"ytick_2\">\r\n     <g id=\"line2d_11\">\r\n      <g>\r\n       <use style=\"stroke:#000000;stroke-width:0.8;\" x=\"61.915625\" xlink:href=\"#md22088db95\" y=\"165.338182\"/>\r\n      </g>\r\n     </g>\r\n     <g id=\"text_11\">\r\n      <!-- 3.85693 -->\r\n      <g transform=\"translate(13.5625 169.137401)scale(0.1 -0.1)\">\r\n       <defs>\r\n        <path d=\"M 10.984375 1.515625 \r\nL 10.984375 10.5 \r\nQ 14.703125 8.734375 18.5 7.8125 \r\nQ 22.3125 6.890625 25.984375 6.890625 \r\nQ 35.75 6.890625 40.890625 13.453125 \r\nQ 46.046875 20.015625 46.78125 33.40625 \r\nQ 43.953125 29.203125 39.59375 26.953125 \r\nQ 35.25 24.703125 29.984375 24.703125 \r\nQ 19.046875 24.703125 12.671875 31.3125 \r\nQ 6.296875 37.9375 6.296875 49.421875 \r\nQ 6.296875 60.640625 12.9375 67.421875 \r\nQ 19.578125 74.21875 30.609375 74.21875 \r\nQ 43.265625 74.21875 49.921875 64.515625 \r\nQ 56.59375 54.828125 56.59375 36.375 \r\nQ 56.59375 19.140625 48.40625 8.859375 \r\nQ 40.234375 -1.421875 26.421875 -1.421875 \r\nQ 22.703125 -1.421875 18.890625 -0.6875 \r\nQ 15.09375 0.046875 10.984375 1.515625 \r\nz\r\nM 30.609375 32.421875 \r\nQ 37.25 32.421875 41.125 36.953125 \r\nQ 45.015625 41.5 45.015625 49.421875 \r\nQ 45.015625 57.28125 41.125 61.84375 \r\nQ 37.25 66.40625 30.609375 66.40625 \r\nQ 23.96875 66.40625 20.09375 61.84375 \r\nQ 16.21875 57.28125 16.21875 49.421875 \r\nQ 16.21875 41.5 20.09375 36.953125 \r\nQ 23.96875 32.421875 30.609375 32.421875 \r\nz\r\n\" id=\"DejaVuSans-57\"/>\r\n       </defs>\r\n       <use xlink:href=\"#DejaVuSans-51\"/>\r\n       <use x=\"63.623047\" xlink:href=\"#DejaVuSans-46\"/>\r\n       <use x=\"95.410156\" xlink:href=\"#DejaVuSans-56\"/>\r\n       <use x=\"159.033203\" xlink:href=\"#DejaVuSans-53\"/>\r\n       <use x=\"222.65625\" xlink:href=\"#DejaVuSans-54\"/>\r\n       <use x=\"286.279297\" xlink:href=\"#DejaVuSans-57\"/>\r\n       <use x=\"349.902344\" xlink:href=\"#DejaVuSans-51\"/>\r\n      </g>\r\n     </g>\r\n    </g>\r\n    <g id=\"ytick_3\">\r\n     <g id=\"line2d_12\">\r\n      <g>\r\n       <use style=\"stroke:#000000;stroke-width:0.8;\" x=\"61.915625\" xlink:href=\"#md22088db95\" y=\"115.92\"/>\r\n      </g>\r\n     </g>\r\n     <g id=\"text_12\">\r\n      <!-- 2.9741 -->\r\n      <g transform=\"translate(19.925 119.719219)scale(0.1 -0.1)\">\r\n       <use xlink:href=\"#DejaVuSans-50\"/>\r\n       <use x=\"63.623047\" xlink:href=\"#DejaVuSans-46\"/>\r\n       <use x=\"95.410156\" xlink:href=\"#DejaVuSans-57\"/>\r\n       <use x=\"159.033203\" xlink:href=\"#DejaVuSans-55\"/>\r\n       <use x=\"222.65625\" xlink:href=\"#DejaVuSans-52\"/>\r\n       <use x=\"286.279297\" xlink:href=\"#DejaVuSans-49\"/>\r\n      </g>\r\n     </g>\r\n    </g>\r\n    <g id=\"ytick_4\">\r\n     <g id=\"line2d_13\">\r\n      <g>\r\n       <use style=\"stroke:#000000;stroke-width:0.8;\" x=\"61.915625\" xlink:href=\"#md22088db95\" y=\"66.501818\"/>\r\n      </g>\r\n     </g>\r\n     <g id=\"text_13\">\r\n      <!-- 2.979995 -->\r\n      <g transform=\"translate(7.2 70.301037)scale(0.1 -0.1)\">\r\n       <use xlink:href=\"#DejaVuSans-50\"/>\r\n       <use x=\"63.623047\" xlink:href=\"#DejaVuSans-46\"/>\r\n       <use x=\"95.410156\" xlink:href=\"#DejaVuSans-57\"/>\r\n       <use x=\"159.033203\" xlink:href=\"#DejaVuSans-55\"/>\r\n       <use x=\"222.65625\" xlink:href=\"#DejaVuSans-57\"/>\r\n       <use x=\"286.279297\" xlink:href=\"#DejaVuSans-57\"/>\r\n       <use x=\"349.902344\" xlink:href=\"#DejaVuSans-57\"/>\r\n       <use x=\"413.525391\" xlink:href=\"#DejaVuSans-53\"/>\r\n      </g>\r\n     </g>\r\n    </g>\r\n    <g id=\"ytick_5\">\r\n     <g id=\"line2d_14\">\r\n      <g>\r\n       <use style=\"stroke:#000000;stroke-width:0.8;\" x=\"61.915625\" xlink:href=\"#md22088db95\" y=\"17.083636\"/>\r\n      </g>\r\n     </g>\r\n     <g id=\"text_14\">\r\n      <!-- 4.002665 -->\r\n      <g transform=\"translate(7.2 20.882855)scale(0.1 -0.1)\">\r\n       <use xlink:href=\"#DejaVuSans-52\"/>\r\n       <use x=\"63.623047\" xlink:href=\"#DejaVuSans-46\"/>\r\n       <use x=\"95.410156\" xlink:href=\"#DejaVuSans-48\"/>\r\n       <use x=\"159.033203\" xlink:href=\"#DejaVuSans-48\"/>\r\n       <use x=\"222.65625\" xlink:href=\"#DejaVuSans-50\"/>\r\n       <use x=\"286.279297\" xlink:href=\"#DejaVuSans-54\"/>\r\n       <use x=\"349.902344\" xlink:href=\"#DejaVuSans-54\"/>\r\n       <use x=\"413.525391\" xlink:href=\"#DejaVuSans-53\"/>\r\n      </g>\r\n     </g>\r\n    </g>\r\n   </g>\r\n   <g id=\"line2d_15\">\r\n    <defs>\r\n     <path d=\"M 0 3 \r\nC 0.795609 3 1.55874 2.683901 2.12132 2.12132 \r\nC 2.683901 1.55874 3 0.795609 3 0 \r\nC 3 -0.795609 2.683901 -1.55874 2.12132 -2.12132 \r\nC 1.55874 -2.683901 0.795609 -3 0 -3 \r\nC -0.795609 -3 -1.55874 -2.683901 -2.12132 -2.12132 \r\nC -2.683901 -1.55874 -3 -0.795609 -3 0 \r\nC -3 0.795609 -2.683901 1.55874 -2.12132 2.12132 \r\nC -1.55874 2.683901 -0.795609 3 0 3 \r\nz\r\n\" id=\"me6031ea0fb\" style=\"stroke:#ff0000;\"/>\r\n    </defs>\r\n    <g clip-path=\"url(#pd7f6091b44)\">\r\n     <use style=\"fill:#ff0000;stroke:#ff0000;\" x=\"77.133807\" xlink:href=\"#me6031ea0fb\" y=\"214.756364\"/>\r\n     <use style=\"fill:#ff0000;stroke:#ff0000;\" x=\"115.179261\" xlink:href=\"#me6031ea0fb\" y=\"165.338182\"/>\r\n     <use style=\"fill:#ff0000;stroke:#ff0000;\" x=\"153.224716\" xlink:href=\"#me6031ea0fb\" y=\"115.92\"/>\r\n     <use style=\"fill:#ff0000;stroke:#ff0000;\" x=\"191.27017\" xlink:href=\"#me6031ea0fb\" y=\"214.756364\"/>\r\n     <use style=\"fill:#ff0000;stroke:#ff0000;\" x=\"229.315625\" xlink:href=\"#me6031ea0fb\" y=\"66.501818\"/>\r\n     <use style=\"fill:#ff0000;stroke:#ff0000;\" x=\"267.36108\" xlink:href=\"#me6031ea0fb\" y=\"214.756364\"/>\r\n     <use style=\"fill:#ff0000;stroke:#ff0000;\" x=\"305.406534\" xlink:href=\"#me6031ea0fb\" y=\"214.756364\"/>\r\n     <use style=\"fill:#ff0000;stroke:#ff0000;\" x=\"343.451989\" xlink:href=\"#me6031ea0fb\" y=\"214.756364\"/>\r\n     <use style=\"fill:#ff0000;stroke:#ff0000;\" x=\"381.497443\" xlink:href=\"#me6031ea0fb\" y=\"17.083636\"/>\r\n    </g>\r\n   </g>\r\n   <g id=\"patch_3\">\r\n    <path d=\"M 61.915625 224.64 \r\nL 61.915625 7.2 \r\n\" style=\"fill:none;stroke:#000000;stroke-linecap:square;stroke-linejoin:miter;stroke-width:0.8;\"/>\r\n   </g>\r\n   <g id=\"patch_4\">\r\n    <path d=\"M 396.715625 224.64 \r\nL 396.715625 7.2 \r\n\" style=\"fill:none;stroke:#000000;stroke-linecap:square;stroke-linejoin:miter;stroke-width:0.8;\"/>\r\n   </g>\r\n   <g id=\"patch_5\">\r\n    <path d=\"M 61.915625 224.64 \r\nL 396.715625 224.64 \r\n\" style=\"fill:none;stroke:#000000;stroke-linecap:square;stroke-linejoin:miter;stroke-width:0.8;\"/>\r\n   </g>\r\n   <g id=\"patch_6\">\r\n    <path d=\"M 61.915625 7.2 \r\nL 396.715625 7.2 \r\n\" style=\"fill:none;stroke:#000000;stroke-linecap:square;stroke-linejoin:miter;stroke-width:0.8;\"/>\r\n   </g>\r\n  </g>\r\n </g>\r\n <defs>\r\n  <clipPath id=\"pd7f6091b44\">\r\n   <rect height=\"217.44\" width=\"334.8\" x=\"61.915625\" y=\"7.2\"/>\r\n  </clipPath>\r\n </defs>\r\n</svg>\r\n",
      "image/png": "[encoded data removed]"
     },
     "metadata": {
      "needs_background": "light"
     }
    }
   ],
   "source": [
    "plt.plot(column, 'ro')\n",
    "plt.show()"
   ]
  },
  {
   "cell_type": "code",
   "execution_count": 9,
   "metadata": {},
   "outputs": [
    {
     "output_type": "execute_result",
     "data": {
      "text/plain": "  WEO Country Code  ISO WEO Subject Code      Country  \\\n0              512  AFG        NGDP_RPCH  Afghanistan   \n1              512  AFG           PPPGDP  Afghanistan   \n2              512  AFG    NGDPRPPPPCPCH  Afghanistan   \n3              512  AFG          PCPIPCH  Afghanistan   \n4              512  AFG         PCPIEPCH  Afghanistan   \n\n                                  Subject Descriptor  \\\n0            Gross domestic product, constant prices   \n1             Gross domestic product, current prices   \n2  Gross domestic product per capita, constant pr...   \n3                 Inflation, average consumer prices   \n4           Inflation, end of period consumer prices   \n\n                                       Subject Notes  \\\n0  Annual percentages of constant price GDP are y...   \n1  These data form the basis for the country weig...   \n2  GDP is expressed in constant international dol...   \n3  Annual percentages of average consumer prices ...   \n4   Annual percentages of end of period consumer ...   \n\n                                            Units     Scale  \\\n0                                  Percent change       NaN   \n1  Purchasing power parity; international dollars  Billions   \n2         Purchasing power parity; percent change       NaN   \n3                                  Percent change       NaN   \n4                                  Percent change       NaN   \n\n                       Country/Series-specific Notes 1980  ...    2013  \\\n0  Source: National Statistics Office Latest actu...  NaN  ...   5.683   \n1  Source: National Statistics Office Latest actu...  NaN  ...  60.181   \n2  Source: National Statistics Office Latest actu...  NaN  ...   2.236   \n3  Source: National Statistics Office Latest actu...  NaN  ...   7.386   \n4  Source: National Statistics Office Latest actu...  NaN  ...   7.241   \n\n     2014    2015    2016    2017    2018    2019    2020    2021  \\\n0   2.697   0.988   2.164   2.889   2.664   3.037  -3.007   4.495   \n1  62.948  64.231  66.301  69.501  73.091  76.624  74.792  79.678   \n2  -0.521  -1.941  -0.547   0.358   1.268   1.654  -4.291   3.063   \n3   4.674  -0.662   4.384   4.976   0.626   2.302   4.711   4.451   \n4   1.487   1.131   4.588   3.041   0.755   2.773     4.5       5   \n\n  Estimates Start After  \n0                2018.0  \n1                2018.0  \n2                2018.0  \n3                2018.0  \n4                2018.0  \n\n[5 rows x 52 columns]",
      "text/html": "<div>\n<style scoped>\n    .dataframe tbody tr th:only-of-type {\n        vertical-align: middle;\n    }\n\n    .dataframe tbody tr th {\n        vertical-align: top;\n    }\n\n    .dataframe thead th {\n        text-align: right;\n    }\n</style>\n<table border=\"1\" class=\"dataframe\">\n  <thead>\n    <tr style=\"text-align: right;\">\n      <th></th>\n      <th>WEO Country Code</th>\n      <th>ISO</th>\n      <th>WEO Subject Code</th>\n      <th>Country</th>\n      <th>Subject Descriptor</th>\n      <th>Subject Notes</th>\n      <th>Units</th>\n      <th>Scale</th>\n      <th>Country/Series-specific Notes</th>\n      <th>1980</th>\n      <th>...</th>\n      <th>2013</th>\n      <th>2014</th>\n      <th>2015</th>\n      <th>2016</th>\n      <th>2017</th>\n      <th>2018</th>\n      <th>2019</th>\n      <th>2020</th>\n      <th>2021</th>\n      <th>Estimates Start After</th>\n    </tr>\n  </thead>\n  <tbody>\n    <tr>\n      <th>0</th>\n      <td>512</td>\n      <td>AFG</td>\n      <td>NGDP_RPCH</td>\n      <td>Afghanistan</td>\n      <td>Gross domestic product, constant prices</td>\n      <td>Annual percentages of constant price GDP are y...</td>\n      <td>Percent change</td>\n      <td>NaN</td>\n      <td>Source: National Statistics Office Latest actu...</td>\n      <td>NaN</td>\n      <td>...</td>\n      <td>5.683</td>\n      <td>2.697</td>\n      <td>0.988</td>\n      <td>2.164</td>\n      <td>2.889</td>\n      <td>2.664</td>\n      <td>3.037</td>\n      <td>-3.007</td>\n      <td>4.495</td>\n      <td>2018.0</td>\n    </tr>\n    <tr>\n      <th>1</th>\n      <td>512</td>\n      <td>AFG</td>\n      <td>PPPGDP</td>\n      <td>Afghanistan</td>\n      <td>Gross domestic product, current prices</td>\n      <td>These data form the basis for the country weig...</td>\n      <td>Purchasing power parity; international dollars</td>\n      <td>Billions</td>\n      <td>Source: National Statistics Office Latest actu...</td>\n      <td>NaN</td>\n      <td>...</td>\n      <td>60.181</td>\n      <td>62.948</td>\n      <td>64.231</td>\n      <td>66.301</td>\n      <td>69.501</td>\n      <td>73.091</td>\n      <td>76.624</td>\n      <td>74.792</td>\n      <td>79.678</td>\n      <td>2018.0</td>\n    </tr>\n    <tr>\n      <th>2</th>\n      <td>512</td>\n      <td>AFG</td>\n      <td>NGDPRPPPPCPCH</td>\n      <td>Afghanistan</td>\n      <td>Gross domestic product per capita, constant pr...</td>\n      <td>GDP is expressed in constant international dol...</td>\n      <td>Purchasing power parity; percent change</td>\n      <td>NaN</td>\n      <td>Source: National Statistics Office Latest actu...</td>\n      <td>NaN</td>\n      <td>...</td>\n      <td>2.236</td>\n      <td>-0.521</td>\n      <td>-1.941</td>\n      <td>-0.547</td>\n      <td>0.358</td>\n      <td>1.268</td>\n      <td>1.654</td>\n      <td>-4.291</td>\n      <td>3.063</td>\n      <td>2018.0</td>\n    </tr>\n    <tr>\n      <th>3</th>\n      <td>512</td>\n      <td>AFG</td>\n      <td>PCPIPCH</td>\n      <td>Afghanistan</td>\n      <td>Inflation, average consumer prices</td>\n      <td>Annual percentages of average consumer prices ...</td>\n      <td>Percent change</td>\n      <td>NaN</td>\n      <td>Source: National Statistics Office Latest actu...</td>\n      <td>NaN</td>\n      <td>...</td>\n      <td>7.386</td>\n      <td>4.674</td>\n      <td>-0.662</td>\n      <td>4.384</td>\n      <td>4.976</td>\n      <td>0.626</td>\n      <td>2.302</td>\n      <td>4.711</td>\n      <td>4.451</td>\n      <td>2018.0</td>\n    </tr>\n    <tr>\n      <th>4</th>\n      <td>512</td>\n      <td>AFG</td>\n      <td>PCPIEPCH</td>\n      <td>Afghanistan</td>\n      <td>Inflation, end of period consumer prices</td>\n      <td>Annual percentages of end of period consumer ...</td>\n      <td>Percent change</td>\n      <td>NaN</td>\n      <td>Source: National Statistics Office Latest actu...</td>\n      <td>NaN</td>\n      <td>...</td>\n      <td>7.241</td>\n      <td>1.487</td>\n      <td>1.131</td>\n      <td>4.588</td>\n      <td>3.041</td>\n      <td>0.755</td>\n      <td>2.773</td>\n      <td>4.5</td>\n      <td>5</td>\n      <td>2018.0</td>\n    </tr>\n  </tbody>\n</table>\n<p>5 rows × 52 columns</p>\n</div>"
     },
     "metadata": {},
     "execution_count": 9
    }
   ],
   "source": [
    "path = r\"C:\\Users\\HP\\Documents\\GitHub\\Last-Mile-206\\datasets\\WorldEconomicOutlookData.csv\"\n",
    "data_frame = pd.read_csv(path)\n",
    "data_frame.head()"
   ]
  },
  {
   "cell_type": "code",
   "execution_count": 11,
   "metadata": {
    "tags": []
   },
   "outputs": [
    {
     "output_type": "stream",
     "name": "stdout",
     "text": "                                       WEO Country Code  ISO WEO Subject Code  \\\n0                                                   512  AFG        NGDP_RPCH   \n1                                                   512  AFG           PPPGDP   \n2                                                   512  AFG    NGDPRPPPPCPCH   \n3                                                   512  AFG          PCPIPCH   \n4                                                   512  AFG         PCPIEPCH   \n...                                                 ...  ...              ...   \n1549                                                698  ZWE              LUR   \n1550                                                698  ZWE      GGXCNL_NGDP   \n1551                                                698  ZWE        BCA_NGDPD   \n1552                                                NaN  NaN              NaN   \n1553  International Monetary Fund, World Economic Ou...  NaN              NaN   \n\n          Country                                 Subject Descriptor  \\\n0     Afghanistan            Gross domestic product, constant prices   \n1     Afghanistan             Gross domestic product, current prices   \n2     Afghanistan  Gross domestic product per capita, constant pr...   \n3     Afghanistan                 Inflation, average consumer prices   \n4     Afghanistan           Inflation, end of period consumer prices   \n...           ...                                                ...   \n1549     Zimbabwe                                  Unemployment rate   \n1550     Zimbabwe           General government net lending/borrowing   \n1551     Zimbabwe                            Current account balance   \n1552          NaN                                                NaN   \n1553          NaN                                                NaN   \n\n                                          Subject Notes  \\\n0     Annual percentages of constant price GDP are y...   \n1     These data form the basis for the country weig...   \n2     GDP is expressed in constant international dol...   \n3     Annual percentages of average consumer prices ...   \n4      Annual percentages of end of period consumer ...   \n...                                                 ...   \n1549  Unemployment rate can be defined by either the...   \n1550  Net lending (+)/ borrowing (?) is calculated a...   \n1551  Current account is all transactions other than...   \n1552                                                NaN   \n1553                                                NaN   \n\n                                               Units     Scale  \\\n0                                     Percent change       NaN   \n1     Purchasing power parity; international dollars  Billions   \n2            Purchasing power parity; percent change       NaN   \n3                                     Percent change       NaN   \n4                                     Percent change       NaN   \n...                                              ...       ...   \n1549                    Percent of total labor force       NaN   \n1550                                  Percent of GDP       NaN   \n1551                                  Percent of GDP       NaN   \n1552                                             NaN       NaN   \n1553                                             NaN       NaN   \n\n                          Country/Series-specific Notes 1980  ...    2013  \\\n0     Source: National Statistics Office Latest actu...  NaN  ...   5.683   \n1     Source: National Statistics Office Latest actu...  NaN  ...  60.181   \n2     Source: National Statistics Office Latest actu...  NaN  ...   2.236   \n3     Source: National Statistics Office Latest actu...  NaN  ...   7.386   \n4     Source: National Statistics Office Latest actu...  NaN  ...   7.241   \n...                                                 ...  ...  ...     ...   \n1549                                                NaN  NaN  ...     NaN   \n1550  Source: Ministry of Finance or Treasury Latest...  NaN  ...  -0.621   \n1551  Source: Reserve Bank of Zimbabwe and Ministry ...  NaN  ...  -13.23   \n1552                                                NaN  NaN  ...     NaN   \n1553                                                NaN  NaN  ...     NaN   \n\n         2014    2015    2016    2017    2018    2019    2020    2021  \\\n0       2.697   0.988   2.164   2.889   2.664   3.037  -3.007   4.495   \n1      62.948  64.231  66.301  69.501  73.091  76.624  74.792  79.678   \n2      -0.521  -1.941  -0.547   0.358   1.268   1.654  -4.291   3.063   \n3       4.674  -0.662   4.384   4.976   0.626   2.302   4.711   4.451   \n4       1.487   1.131   4.588   3.041   0.755   2.773     4.5       5   \n...       ...     ...     ...     ...     ...     ...     ...     ...   \n1549      NaN     NaN     NaN     NaN     NaN     NaN     NaN     NaN   \n1550   -0.421  -1.418  -6.242  -8.113  -4.499  -2.575  -4.931  -1.518   \n1551  -11.563  -7.617   -3.58  -1.299  -5.896   1.133  -1.914  -1.894   \n1552      NaN     NaN     NaN     NaN     NaN     NaN     NaN     NaN   \n1553      NaN     NaN     NaN     NaN     NaN     NaN     NaN     NaN   \n\n     Estimates Start After  \n0                   2018.0  \n1                   2018.0  \n2                   2018.0  \n3                   2018.0  \n4                   2018.0  \n...                    ...  \n1549                   NaN  \n1550                2018.0  \n1551                2018.0  \n1552                   NaN  \n1553                   NaN  \n\n[1554 rows x 52 columns]\n"
    }
   ],
   "source": [
    "print(data_frame)"
   ]
  },
  {
   "cell_type": "code",
   "execution_count": 12,
   "metadata": {
    "tags": []
   },
   "outputs": [
    {
     "output_type": "stream",
     "name": "stdout",
     "text": "Index([&#39;WEO Country Code&#39;, &#39;ISO&#39;, &#39;WEO Subject Code&#39;, &#39;Country&#39;,\n       &#39;Subject Descriptor&#39;, &#39;Subject Notes&#39;, &#39;Units&#39;, &#39;Scale&#39;,\n       &#39;Country/Series-specific Notes&#39;, &#39;1980&#39;, &#39;1981&#39;, &#39;1982&#39;, &#39;1983&#39;, &#39;1984&#39;,\n       &#39;1985&#39;, &#39;1986&#39;, &#39;1987&#39;, &#39;1988&#39;, &#39;1989&#39;, &#39;1990&#39;, &#39;1991&#39;, &#39;1992&#39;, &#39;1993&#39;,\n       &#39;1994&#39;, &#39;1995&#39;, &#39;1996&#39;, &#39;1997&#39;, &#39;1998&#39;, &#39;1999&#39;, &#39;2000&#39;, &#39;2001&#39;, &#39;2002&#39;,\n       &#39;2003&#39;, &#39;2004&#39;, &#39;2005&#39;, &#39;2006&#39;, &#39;2007&#39;, &#39;2008&#39;, &#39;2009&#39;, &#39;2010&#39;, &#39;2011&#39;,\n       &#39;2012&#39;, &#39;2013&#39;, &#39;2014&#39;, &#39;2015&#39;, &#39;2016&#39;, &#39;2017&#39;, &#39;2018&#39;, &#39;2019&#39;, &#39;2020&#39;,\n       &#39;2021&#39;, &#39;Estimates Start After&#39;],\n      dtype=&#39;object&#39;)\n"
    }
   ],
   "source": [
    "print(data_frame.columns)"
   ]
  },
  {
   "cell_type": "code",
   "execution_count": 14,
   "metadata": {
    "tags": []
   },
   "outputs": [
    {
     "output_type": "stream",
     "name": "stdout",
     "text": "  WEO Country Code  ISO WEO Subject Code      Country  \\\n0              512  AFG        NGDP_RPCH  Afghanistan   \n\n                        Subject Descriptor  \\\n0  Gross domestic product, constant prices   \n\n                                       Subject Notes           Units Scale  \\\n0  Annual percentages of constant price GDP are y...  Percent change   NaN   \n\n                       Country/Series-specific Notes 1980  ...   2013   2014  \\\n0  Source: National Statistics Office Latest actu...  NaN  ...  5.683  2.697   \n\n    2015   2016   2017   2018   2019    2020   2021 Estimates Start After  \n0  0.988  2.164  2.889  2.664  3.037  -3.007  4.495                2018.0  \n\n[1 rows x 52 columns]\n"
    }
   ],
   "source": [
    "print(data_frame.head(1))"
   ]
  },
  {
   "cell_type": "code",
   "execution_count": 16,
   "metadata": {
    "tags": []
   },
   "outputs": [
    {
     "output_type": "stream",
     "name": "stdout",
     "text": "Index([&#39;WEO Country Code&#39;, &#39;ISO&#39;, &#39;WEO Subject Code&#39;, &#39;Country&#39;,\n       &#39;Subject Descriptor&#39;, &#39;Subject Notes&#39;, &#39;Units&#39;, &#39;Scale&#39;,\n       &#39;Country/Series-specific Notes&#39;, &#39;1980&#39;, &#39;1981&#39;, &#39;1982&#39;, &#39;1983&#39;, &#39;1984&#39;,\n       &#39;1985&#39;, &#39;1986&#39;, &#39;1987&#39;, &#39;1988&#39;, &#39;1989&#39;, &#39;1990&#39;, &#39;1991&#39;, &#39;1992&#39;, &#39;1993&#39;,\n       &#39;1994&#39;, &#39;1995&#39;, &#39;1996&#39;, &#39;1997&#39;, &#39;1998&#39;, &#39;1999&#39;, &#39;2000&#39;, &#39;2001&#39;, &#39;2002&#39;,\n       &#39;2003&#39;, &#39;2004&#39;, &#39;2005&#39;, &#39;2006&#39;, &#39;2007&#39;, &#39;2008&#39;, &#39;2009&#39;, &#39;2010&#39;, &#39;2011&#39;,\n       &#39;2012&#39;, &#39;2013&#39;, &#39;2014&#39;, &#39;2015&#39;, &#39;2016&#39;, &#39;2017&#39;, &#39;2018&#39;, &#39;2019&#39;, &#39;2020&#39;,\n       &#39;2021&#39;, &#39;Estimates Start After&#39;],\n      dtype=&#39;object&#39;)\n"
    }
   ],
   "source": [
    "print(data_frame.columns)"
   ]
  },
  {
   "cell_type": "code",
   "execution_count": 19,
   "metadata": {
    "tags": []
   },
   "outputs": [
    {
     "output_type": "stream",
     "name": "stdout",
     "text": "[&#39;Percent change&#39; &#39;Purchasing power parity; international dollars&#39;\n &#39;Purchasing power parity; percent change&#39; &#39;Percent of total labor force&#39;\n &#39;Percent of GDP&#39; nan]\n[nan &#39;Billions&#39;]\n"
    }
   ],
   "source": [
    "print(data_frame[\"Units\"].unique())\n",
    "print(data_frame[\"Scale\"].unique())"
   ]
  },
  {
   "cell_type": "code",
   "execution_count": 66,
   "metadata": {
    "tags": []
   },
   "outputs": [],
   "source": [
    "path2 = \"C:/Users/HP/Documents/GitHub/Last-Mile-206/datasets/co2_emissions_mt_pc.csv\"\n",
    "df = pd.read_csv(path2, skiprows=4)"
   ]
  },
  {
   "cell_type": "code",
   "execution_count": 67,
   "metadata": {
    "tags": []
   },
   "outputs": [
    {
     "output_type": "execute_result",
     "data": {
      "text/plain": "  Country Name Country Code                          Indicator Name  \\\n0        Aruba          ABW  CO2 emissions (metric tons per capita)   \n1  Afghanistan          AFG  CO2 emissions (metric tons per capita)   \n2       Angola          AGO  CO2 emissions (metric tons per capita)   \n3      Albania          ALB  CO2 emissions (metric tons per capita)   \n4      Andorra          AND  CO2 emissions (metric tons per capita)   \n\n   Indicator Code        1960        1961        1962        1963        1964  \\\n0  EN.ATM.CO2E.PC  204.620372  208.822811  226.118079  214.800370  207.615777   \n1  EN.ATM.CO2E.PC    0.046057    0.053589    0.073721    0.074161    0.086174   \n2  EN.ATM.CO2E.PC    0.100835    0.082204    0.210531    0.202737    0.213560   \n3  EN.ATM.CO2E.PC    1.258195    1.374186    1.439956    1.181681    1.111742   \n4  EN.ATM.CO2E.PC         NaN         NaN         NaN         NaN         NaN   \n\n         1965  ...       2011       2012      2013      2014      2015  \\\n0  185.203957  ...  24.507516  13.157722  8.353561  8.410064  8.610374   \n1    0.101285  ...   0.406424   0.345149  0.280455  0.253728  0.262556   \n2    0.205891  ...   1.262825   1.361181  1.295075  1.664741  1.240245   \n3    1.166099  ...   1.803715   1.697966  1.697279  1.900070  1.602648   \n4         NaN  ...   5.867410   5.916884  5.901775  5.832906  5.969786   \n\n       2016  2017  2018  2019  Unnamed: 64  \n0  8.426911   NaN   NaN   NaN          NaN  \n1  0.245101   NaN   NaN   NaN          NaN  \n2  1.202861   NaN   NaN   NaN          NaN  \n3  1.577163   NaN   NaN   NaN          NaN  \n4  6.072370   NaN   NaN   NaN          NaN  \n\n[5 rows x 65 columns]",
      "text/html": "<div>\n<style scoped>\n    .dataframe tbody tr th:only-of-type {\n        vertical-align: middle;\n    }\n\n    .dataframe tbody tr th {\n        vertical-align: top;\n    }\n\n    .dataframe thead th {\n        text-align: right;\n    }\n</style>\n<table border=\"1\" class=\"dataframe\">\n  <thead>\n    <tr style=\"text-align: right;\">\n      <th></th>\n      <th>Country Name</th>\n      <th>Country Code</th>\n      <th>Indicator Name</th>\n      <th>Indicator Code</th>\n      <th>1960</th>\n      <th>1961</th>\n      <th>1962</th>\n      <th>1963</th>\n      <th>1964</th>\n      <th>1965</th>\n      <th>...</th>\n      <th>2011</th>\n      <th>2012</th>\n      <th>2013</th>\n      <th>2014</th>\n      <th>2015</th>\n      <th>2016</th>\n      <th>2017</th>\n      <th>2018</th>\n      <th>2019</th>\n      <th>Unnamed: 64</th>\n    </tr>\n  </thead>\n  <tbody>\n    <tr>\n      <th>0</th>\n      <td>Aruba</td>\n      <td>ABW</td>\n      <td>CO2 emissions (metric tons per capita)</td>\n      <td>EN.ATM.CO2E.PC</td>\n      <td>204.620372</td>\n      <td>208.822811</td>\n      <td>226.118079</td>\n      <td>214.800370</td>\n      <td>207.615777</td>\n      <td>185.203957</td>\n      <td>...</td>\n      <td>24.507516</td>\n      <td>13.157722</td>\n      <td>8.353561</td>\n      <td>8.410064</td>\n      <td>8.610374</td>\n      <td>8.426911</td>\n      <td>NaN</td>\n      <td>NaN</td>\n      <td>NaN</td>\n      <td>NaN</td>\n    </tr>\n    <tr>\n      <th>1</th>\n      <td>Afghanistan</td>\n      <td>AFG</td>\n      <td>CO2 emissions (metric tons per capita)</td>\n      <td>EN.ATM.CO2E.PC</td>\n      <td>0.046057</td>\n      <td>0.053589</td>\n      <td>0.073721</td>\n      <td>0.074161</td>\n      <td>0.086174</td>\n      <td>0.101285</td>\n      <td>...</td>\n      <td>0.406424</td>\n      <td>0.345149</td>\n      <td>0.280455</td>\n      <td>0.253728</td>\n      <td>0.262556</td>\n      <td>0.245101</td>\n      <td>NaN</td>\n      <td>NaN</td>\n      <td>NaN</td>\n      <td>NaN</td>\n    </tr>\n    <tr>\n      <th>2</th>\n      <td>Angola</td>\n      <td>AGO</td>\n      <td>CO2 emissions (metric tons per capita)</td>\n      <td>EN.ATM.CO2E.PC</td>\n      <td>0.100835</td>\n      <td>0.082204</td>\n      <td>0.210531</td>\n      <td>0.202737</td>\n      <td>0.213560</td>\n      <td>0.205891</td>\n      <td>...</td>\n      <td>1.262825</td>\n      <td>1.361181</td>\n      <td>1.295075</td>\n      <td>1.664741</td>\n      <td>1.240245</td>\n      <td>1.202861</td>\n      <td>NaN</td>\n      <td>NaN</td>\n      <td>NaN</td>\n      <td>NaN</td>\n    </tr>\n    <tr>\n      <th>3</th>\n      <td>Albania</td>\n      <td>ALB</td>\n      <td>CO2 emissions (metric tons per capita)</td>\n      <td>EN.ATM.CO2E.PC</td>\n      <td>1.258195</td>\n      <td>1.374186</td>\n      <td>1.439956</td>\n      <td>1.181681</td>\n      <td>1.111742</td>\n      <td>1.166099</td>\n      <td>...</td>\n      <td>1.803715</td>\n      <td>1.697966</td>\n      <td>1.697279</td>\n      <td>1.900070</td>\n      <td>1.602648</td>\n      <td>1.577163</td>\n      <td>NaN</td>\n      <td>NaN</td>\n      <td>NaN</td>\n      <td>NaN</td>\n    </tr>\n    <tr>\n      <th>4</th>\n      <td>Andorra</td>\n      <td>AND</td>\n      <td>CO2 emissions (metric tons per capita)</td>\n      <td>EN.ATM.CO2E.PC</td>\n      <td>NaN</td>\n      <td>NaN</td>\n      <td>NaN</td>\n      <td>NaN</td>\n      <td>NaN</td>\n      <td>NaN</td>\n      <td>...</td>\n      <td>5.867410</td>\n      <td>5.916884</td>\n      <td>5.901775</td>\n      <td>5.832906</td>\n      <td>5.969786</td>\n      <td>6.072370</td>\n      <td>NaN</td>\n      <td>NaN</td>\n      <td>NaN</td>\n      <td>NaN</td>\n    </tr>\n  </tbody>\n</table>\n<p>5 rows × 65 columns</p>\n</div>"
     },
     "metadata": {},
     "execution_count": 67
    }
   ],
   "source": [
    "df.head(5)"
   ]
  },
  {
   "cell_type": "code",
   "execution_count": 68,
   "metadata": {
    "tags": []
   },
   "outputs": [
    {
     "output_type": "stream",
     "name": "stdout",
     "text": "Index([&#39;Country Name&#39;, &#39;Country Code&#39;, &#39;Indicator Name&#39;, &#39;Indicator Code&#39;,\n       &#39;1960&#39;, &#39;1961&#39;, &#39;1962&#39;, &#39;1963&#39;, &#39;1964&#39;, &#39;1965&#39;, &#39;1966&#39;, &#39;1967&#39;, &#39;1968&#39;,\n       &#39;1969&#39;, &#39;1970&#39;, &#39;1971&#39;, &#39;1972&#39;, &#39;1973&#39;, &#39;1974&#39;, &#39;1975&#39;, &#39;1976&#39;, &#39;1977&#39;,\n       &#39;1978&#39;, &#39;1979&#39;, &#39;1980&#39;, &#39;1981&#39;, &#39;1982&#39;, &#39;1983&#39;, &#39;1984&#39;, &#39;1985&#39;, &#39;1986&#39;,\n       &#39;1987&#39;, &#39;1988&#39;, &#39;1989&#39;, &#39;1990&#39;, &#39;1991&#39;, &#39;1992&#39;, &#39;1993&#39;, &#39;1994&#39;, &#39;1995&#39;,\n       &#39;1996&#39;, &#39;1997&#39;, &#39;1998&#39;, &#39;1999&#39;, &#39;2000&#39;, &#39;2001&#39;, &#39;2002&#39;, &#39;2003&#39;, &#39;2004&#39;,\n       &#39;2005&#39;, &#39;2006&#39;, &#39;2007&#39;, &#39;2008&#39;, &#39;2009&#39;, &#39;2010&#39;, &#39;2011&#39;, &#39;2012&#39;, &#39;2013&#39;,\n       &#39;2014&#39;, &#39;2015&#39;, &#39;2016&#39;, &#39;2017&#39;, &#39;2018&#39;, &#39;2019&#39;, &#39;Unnamed: 64&#39;],\n      dtype=&#39;object&#39;)\n"
    }
   ],
   "source": [
    "print(df.columns)"
   ]
  },
  {
   "cell_type": "code",
   "execution_count": 69,
   "metadata": {
    "tags": []
   },
   "outputs": [
    {
     "output_type": "stream",
     "name": "stdout",
     "text": "Index([&#39;Country Name&#39;, &#39;Country Code&#39;, &#39;Indicator Name&#39;, &#39;Indicator Code&#39;,\n       &#39;1960&#39;, &#39;1961&#39;, &#39;1962&#39;, &#39;1963&#39;, &#39;1964&#39;, &#39;1965&#39;, &#39;1966&#39;, &#39;1967&#39;, &#39;1968&#39;,\n       &#39;1969&#39;, &#39;1970&#39;, &#39;1971&#39;, &#39;1972&#39;, &#39;1973&#39;, &#39;1974&#39;, &#39;1975&#39;, &#39;1976&#39;, &#39;1977&#39;,\n       &#39;1978&#39;, &#39;1979&#39;, &#39;1980&#39;, &#39;1981&#39;, &#39;1982&#39;, &#39;1983&#39;, &#39;1984&#39;, &#39;1985&#39;, &#39;1986&#39;,\n       &#39;1987&#39;, &#39;1988&#39;, &#39;1989&#39;, &#39;1990&#39;, &#39;1991&#39;, &#39;1992&#39;, &#39;1993&#39;, &#39;1994&#39;, &#39;1995&#39;,\n       &#39;1996&#39;, &#39;1997&#39;, &#39;1998&#39;, &#39;1999&#39;, &#39;2000&#39;, &#39;2001&#39;, &#39;2002&#39;, &#39;2003&#39;, &#39;2004&#39;,\n       &#39;2005&#39;, &#39;2006&#39;, &#39;2007&#39;, &#39;2008&#39;, &#39;2009&#39;, &#39;2010&#39;, &#39;2011&#39;, &#39;2012&#39;, &#39;2013&#39;,\n       &#39;2014&#39;, &#39;2015&#39;, &#39;2016&#39;, &#39;2017&#39;, &#39;2018&#39;, &#39;2019&#39;],\n      dtype=&#39;object&#39;)\n"
    }
   ],
   "source": [
    "df = df.loc[:, ~df.columns.str.contains('^Unnamed')]\n",
    "print(df.columns)"
   ]
  },
  {
   "cell_type": "code",
   "execution_count": 70,
   "metadata": {},
   "outputs": [],
   "source": [
    "df.drop(['1960', '1961', '1962', '1963', '1964', '1965', '1966', '1967', '1968',\n",
    "       '1969', '1970', '1971', '1972', '1973', '1974', '1975', '1976', '1977',\n",
    "       '1978', '1979','2017','2019','2018'],axis = 1, inplace = True)\n"
   ]
  },
  {
   "cell_type": "code",
   "execution_count": 71,
   "metadata": {
    "tags": []
   },
   "outputs": [
    {
     "output_type": "stream",
     "name": "stdout",
     "text": "Index([&#39;Country Name&#39;, &#39;Country Code&#39;, &#39;Indicator Name&#39;, &#39;Indicator Code&#39;,\n       &#39;1980&#39;, &#39;1981&#39;, &#39;1982&#39;, &#39;1983&#39;, &#39;1984&#39;, &#39;1985&#39;, &#39;1986&#39;, &#39;1987&#39;, &#39;1988&#39;,\n       &#39;1989&#39;, &#39;1990&#39;, &#39;1991&#39;, &#39;1992&#39;, &#39;1993&#39;, &#39;1994&#39;, &#39;1995&#39;, &#39;1996&#39;, &#39;1997&#39;,\n       &#39;1998&#39;, &#39;1999&#39;, &#39;2000&#39;, &#39;2001&#39;, &#39;2002&#39;, &#39;2003&#39;, &#39;2004&#39;, &#39;2005&#39;, &#39;2006&#39;,\n       &#39;2007&#39;, &#39;2008&#39;, &#39;2009&#39;, &#39;2010&#39;, &#39;2011&#39;, &#39;2012&#39;, &#39;2013&#39;, &#39;2014&#39;, &#39;2015&#39;,\n       &#39;2016&#39;],\n      dtype=&#39;object&#39;)\n"
    }
   ],
   "source": [
    "print(df.columns)"
   ]
  },
  {
   "cell_type": "code",
   "execution_count": 73,
   "metadata": {},
   "outputs": [
    {
     "output_type": "execute_result",
     "data": {
      "text/plain": "             1980        1981        1982        1983        1984        1985  \\\ncount  214.000000  214.000000  214.000000  214.000000  214.000000  214.000000   \nmean     5.558627    5.042573    5.008635    4.446514    5.178856    5.471677   \nstd     13.863952   12.726227   13.589160    8.228040   16.403235   18.881886   \nmin      0.035283    0.029589    0.028209    0.030747    0.041402    0.035264   \n25%      0.465911    0.475358    0.471814    0.463786    0.483831    0.486066   \n50%      1.665785    1.689259    1.610893    1.614825    1.644124    1.691656   \n75%      6.516118    5.889514    5.818388    5.789108    5.925855    6.141544   \nmax    174.697501  165.104909  182.259076   92.380975  228.355895  266.475106   \n\n             1986        1987        1988        1989  ...        2007  \\\ncount  214.000000  214.000000  214.000000  214.000000  ...  249.000000   \nmean     4.231226    4.266817    4.407559    4.531676  ...    4.951686   \nstd      5.870725    5.679121    5.827869    6.033024  ...    6.363324   \nmin      0.035641    0.036583    0.011809    0.017783  ...    0.023787   \n25%      0.458092    0.488728    0.513202    0.499882  ...    0.900998   \n50%      1.625023    1.738113    1.866953    1.950696  ...    2.796490   \n75%      6.058304    6.027365    6.287502    6.466173  ...    7.275800   \nmax     33.430236   31.100021   29.726963   31.574754  ...   51.933672   \n\n             2008        2009        2010        2011        2012        2013  \\\ncount  250.000000  250.000000  250.000000  250.000000  252.000000  252.000000   \nmean     4.944974    4.716846    4.846856    4.805147    4.977827    4.887780   \nstd      6.108565    5.788270    5.821775    5.742734    6.188848    5.854469   \nmin      0.023466    0.022707    0.031295    0.037354    0.034853    0.043049   \n25%      0.879822    0.845876    0.832122    0.873532    0.861712    0.875963   \n50%      3.014786    2.908887    2.945495    2.903257    3.015196    3.037544   \n75%      7.126519    6.456476    6.724730    6.771717    6.666637    6.713762   \nmax     45.134782   41.827221   39.059708   39.509205   42.860375   36.387918   \n\n             2014        2015        2016  \ncount  252.000000  247.000000  247.000000  \nmean     4.889015    4.774215    4.714166  \nstd      6.041875    5.922892    5.635981  \nmin      0.039112    0.037226    0.025645  \n25%      0.894885    0.932535    0.983938  \n50%      3.060384    2.863588    2.922629  \n75%      6.346830    6.219604    6.384176  \nmax     43.523293   41.642162   38.901471  \n\n[8 rows x 37 columns]",
      "text/html": "<div>\n<style scoped>\n    .dataframe tbody tr th:only-of-type {\n        vertical-align: middle;\n    }\n\n    .dataframe tbody tr th {\n        vertical-align: top;\n    }\n\n    .dataframe thead th {\n        text-align: right;\n    }\n</style>\n<table border=\"1\" class=\"dataframe\">\n  <thead>\n    <tr style=\"text-align: right;\">\n      <th></th>\n      <th>1980</th>\n      <th>1981</th>\n      <th>1982</th>\n      <th>1983</th>\n      <th>1984</th>\n      <th>1985</th>\n      <th>1986</th>\n      <th>1987</th>\n      <th>1988</th>\n      <th>1989</th>\n      <th>...</th>\n      <th>2007</th>\n      <th>2008</th>\n      <th>2009</th>\n      <th>2010</th>\n      <th>2011</th>\n      <th>2012</th>\n      <th>2013</th>\n      <th>2014</th>\n      <th>2015</th>\n      <th>2016</th>\n    </tr>\n  </thead>\n  <tbody>\n    <tr>\n      <th>count</th>\n      <td>214.000000</td>\n      <td>214.000000</td>\n      <td>214.000000</td>\n      <td>214.000000</td>\n      <td>214.000000</td>\n      <td>214.000000</td>\n      <td>214.000000</td>\n      <td>214.000000</td>\n      <td>214.000000</td>\n      <td>214.000000</td>\n      <td>...</td>\n      <td>249.000000</td>\n      <td>250.000000</td>\n      <td>250.000000</td>\n      <td>250.000000</td>\n      <td>250.000000</td>\n      <td>252.000000</td>\n      <td>252.000000</td>\n      <td>252.000000</td>\n      <td>247.000000</td>\n      <td>247.000000</td>\n    </tr>\n    <tr>\n      <th>mean</th>\n      <td>5.558627</td>\n      <td>5.042573</td>\n      <td>5.008635</td>\n      <td>4.446514</td>\n      <td>5.178856</td>\n      <td>5.471677</td>\n      <td>4.231226</td>\n      <td>4.266817</td>\n      <td>4.407559</td>\n      <td>4.531676</td>\n      <td>...</td>\n      <td>4.951686</td>\n      <td>4.944974</td>\n      <td>4.716846</td>\n      <td>4.846856</td>\n      <td>4.805147</td>\n      <td>4.977827</td>\n      <td>4.887780</td>\n      <td>4.889015</td>\n      <td>4.774215</td>\n      <td>4.714166</td>\n    </tr>\n    <tr>\n      <th>std</th>\n      <td>13.863952</td>\n      <td>12.726227</td>\n      <td>13.589160</td>\n      <td>8.228040</td>\n      <td>16.403235</td>\n      <td>18.881886</td>\n      <td>5.870725</td>\n      <td>5.679121</td>\n      <td>5.827869</td>\n      <td>6.033024</td>\n      <td>...</td>\n      <td>6.363324</td>\n      <td>6.108565</td>\n      <td>5.788270</td>\n      <td>5.821775</td>\n      <td>5.742734</td>\n      <td>6.188848</td>\n      <td>5.854469</td>\n      <td>6.041875</td>\n      <td>5.922892</td>\n      <td>5.635981</td>\n    </tr>\n    <tr>\n      <th>min</th>\n      <td>0.035283</td>\n      <td>0.029589</td>\n      <td>0.028209</td>\n      <td>0.030747</td>\n      <td>0.041402</td>\n      <td>0.035264</td>\n      <td>0.035641</td>\n      <td>0.036583</td>\n      <td>0.011809</td>\n      <td>0.017783</td>\n      <td>...</td>\n      <td>0.023787</td>\n      <td>0.023466</td>\n      <td>0.022707</td>\n      <td>0.031295</td>\n      <td>0.037354</td>\n      <td>0.034853</td>\n      <td>0.043049</td>\n      <td>0.039112</td>\n      <td>0.037226</td>\n      <td>0.025645</td>\n    </tr>\n    <tr>\n      <th>25%</th>\n      <td>0.465911</td>\n      <td>0.475358</td>\n      <td>0.471814</td>\n      <td>0.463786</td>\n      <td>0.483831</td>\n      <td>0.486066</td>\n      <td>0.458092</td>\n      <td>0.488728</td>\n      <td>0.513202</td>\n      <td>0.499882</td>\n      <td>...</td>\n      <td>0.900998</td>\n      <td>0.879822</td>\n      <td>0.845876</td>\n      <td>0.832122</td>\n      <td>0.873532</td>\n      <td>0.861712</td>\n      <td>0.875963</td>\n      <td>0.894885</td>\n      <td>0.932535</td>\n      <td>0.983938</td>\n    </tr>\n    <tr>\n      <th>50%</th>\n      <td>1.665785</td>\n      <td>1.689259</td>\n      <td>1.610893</td>\n      <td>1.614825</td>\n      <td>1.644124</td>\n      <td>1.691656</td>\n      <td>1.625023</td>\n      <td>1.738113</td>\n      <td>1.866953</td>\n      <td>1.950696</td>\n      <td>...</td>\n      <td>2.796490</td>\n      <td>3.014786</td>\n      <td>2.908887</td>\n      <td>2.945495</td>\n      <td>2.903257</td>\n      <td>3.015196</td>\n      <td>3.037544</td>\n      <td>3.060384</td>\n      <td>2.863588</td>\n      <td>2.922629</td>\n    </tr>\n    <tr>\n      <th>75%</th>\n      <td>6.516118</td>\n      <td>5.889514</td>\n      <td>5.818388</td>\n      <td>5.789108</td>\n      <td>5.925855</td>\n      <td>6.141544</td>\n      <td>6.058304</td>\n      <td>6.027365</td>\n      <td>6.287502</td>\n      <td>6.466173</td>\n      <td>...</td>\n      <td>7.275800</td>\n      <td>7.126519</td>\n      <td>6.456476</td>\n      <td>6.724730</td>\n      <td>6.771717</td>\n      <td>6.666637</td>\n      <td>6.713762</td>\n      <td>6.346830</td>\n      <td>6.219604</td>\n      <td>6.384176</td>\n    </tr>\n    <tr>\n      <th>max</th>\n      <td>174.697501</td>\n      <td>165.104909</td>\n      <td>182.259076</td>\n      <td>92.380975</td>\n      <td>228.355895</td>\n      <td>266.475106</td>\n      <td>33.430236</td>\n      <td>31.100021</td>\n      <td>29.726963</td>\n      <td>31.574754</td>\n      <td>...</td>\n      <td>51.933672</td>\n      <td>45.134782</td>\n      <td>41.827221</td>\n      <td>39.059708</td>\n      <td>39.509205</td>\n      <td>42.860375</td>\n      <td>36.387918</td>\n      <td>43.523293</td>\n      <td>41.642162</td>\n      <td>38.901471</td>\n    </tr>\n  </tbody>\n</table>\n<p>8 rows × 37 columns</p>\n</div>"
     },
     "metadata": {},
     "execution_count": 73
    }
   ],
   "source": [
    "df.describe()"
   ]
  },
  {
   "cell_type": "code",
   "execution_count": 76,
   "metadata": {},
   "outputs": [],
   "source": [
    "final_path = \"C:/Users/HP/Documents/GitHub/Last-Mile-206/datasets/\"\n",
    "df.to_csv(final_path + \"co2-emmisions.csv\")\n"
   ]
  },
  {
   "cell_type": "code",
   "execution_count": null,
   "metadata": {},
   "outputs": [],
   "source": []
  }
 ]
}