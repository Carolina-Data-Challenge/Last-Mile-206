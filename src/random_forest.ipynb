{
  "nbformat": 4,
  "nbformat_minor": 0,
  "metadata": {
    "colab": {
      "name": "random-forest.ipynb",
      "provenance": []
    },
    "kernelspec": {
      "name": "python_defaultSpec_1601766862296",
      "display_name": "Python 3.7.3 64-bit"
    }
  },
  "cells": [
    {
      "cell_type": "code",
      "metadata": {
        "id": "YR2pTqPMWwJX"
      },
      "source": [
        "import pandas as pd\n",
        "from sklearn.ensemble import RandomForestClassifier\n",
        "from sklearn.feature_selection import SelectFromModel"
      ],
      "execution_count": 2,
      "outputs": []
    },
    {
      "cell_type": "code",
      "metadata": {
        "id": "Dl5oIi46hxAY"
      },
      "source": [
        "df = pd.read_csv('sample_data/california_housing_train.csv')"
      ],
      "execution_count": 3,
      "outputs": []
    },
    {
      "cell_type": "code",
      "metadata": {
        "id": "JUmvaCuokPt_",
        "outputId": "dc078d0f-0e17-4c7c-88a5-7732456055db",
        "colab": {
          "base_uri": "https://localhost:8080/",
          "height": 83
        }
      },
      "source": [
        "columns = df.columns\n",
        "print(columns)"
      ],
      "execution_count": 4,
      "outputs": [
        {
          "output_type": "stream",
          "text": [
            "Index(['longitude', 'latitude', 'housing_median_age', 'total_rooms',\n",
            "       'total_bedrooms', 'population', 'households', 'median_income',\n",
            "       'median_house_value'],\n",
            "      dtype='object')\n"
          ],
          "name": "stdout"
        }
      ]
    },
    {
      "cell_type": "code",
      "metadata": {
        "id": "o6eQCQqLkTXz",
        "outputId": "ee3c6935-05b6-4092-f40d-17273bc1a5c5",
        "colab": {
          "base_uri": "https://localhost:8080/",
          "height": 250
        }
      },
      "source": [
        "x_train = df.iloc[:, 0:8].copy()\n",
        "print(x_train)"
      ],
      "execution_count": 5,
      "outputs": [
        {
          "output_type": "stream",
          "text": [
            "       longitude  latitude  ...  households  median_income\n",
            "0        -114.31     34.19  ...       472.0         1.4936\n",
            "1        -114.47     34.40  ...       463.0         1.8200\n",
            "2        -114.56     33.69  ...       117.0         1.6509\n",
            "3        -114.57     33.64  ...       226.0         3.1917\n",
            "4        -114.57     33.57  ...       262.0         1.9250\n",
            "...          ...       ...  ...         ...            ...\n",
            "16995    -124.26     40.58  ...       369.0         2.3571\n",
            "16996    -124.27     40.69  ...       465.0         2.5179\n",
            "16997    -124.30     41.84  ...       456.0         3.0313\n",
            "16998    -124.30     41.80  ...       478.0         1.9797\n",
            "16999    -124.35     40.54  ...       270.0         3.0147\n",
            "\n",
            "[17000 rows x 8 columns]\n"
          ],
          "name": "stdout"
        }
      ]
    },
    {
      "cell_type": "code",
      "metadata": {
        "id": "CLqw0xLrjx4t",
        "outputId": "5a866251-0fc9-44d4-e601-b4e0da19e059",
        "colab": {
          "base_uri": "https://localhost:8080/",
          "height": 250
        }
      },
      "source": [
        "y_train = df[['median_house_value']]\n",
        "print(y_train)"
      ],
      "execution_count": 6,
      "outputs": [
        {
          "output_type": "stream",
          "text": [
            "       median_house_value\n",
            "0                 66900.0\n",
            "1                 80100.0\n",
            "2                 85700.0\n",
            "3                 73400.0\n",
            "4                 65500.0\n",
            "...                   ...\n",
            "16995            111400.0\n",
            "16996             79000.0\n",
            "16997            103600.0\n",
            "16998             85800.0\n",
            "16999             94600.0\n",
            "\n",
            "[17000 rows x 1 columns]\n"
          ],
          "name": "stdout"
        }
      ]
    },
    {
      "cell_type": "code",
      "metadata": {
        "id": "kzBSgU-1kMcU",
        "outputId": "07bd1c4a-2414-4395-d1ce-14887746eed3",
        "colab": {
          "base_uri": "https://localhost:8080/",
          "height": 33
        }
      },
      "source": [
        "type(y_train)"
      ],
      "execution_count": 7,
      "outputs": [
        {
          "output_type": "execute_result",
          "data": {
            "text/plain": [
              "pandas.core.frame.DataFrame"
            ]
          },
          "metadata": {
            "tags": []
          },
          "execution_count": 7
        }
      ]
    },
    {
      "cell_type": "code",
      "metadata": {
        "id": "MKZ7an5diCeX"
      },
      "source": [
        "sel = SelectFromModel(RandomForestClassifier(n_estimators = 100))\n",
        "sel.fit(x_train, y_train.values.ravel())"
      ],
      "execution_count": null,
      "outputs": []
    },
    {
      "cell_type": "code",
      "metadata": {
        "id": "Vc8gSBiziZjr",
        "outputId": "6b18dacb-8bb1-40f5-f4f5-676a28e8eabb",
        "colab": {
          "base_uri": "https://localhost:8080/",
          "height": 1000
        }
      },
      "source": [
        "print(sel.get_support())"
      ],
      "execution_count": 63,
      "outputs": [
        {
          "output_type": "stream",
          "text": [
            "[False False False False False False False False False False  True False\n",
            " False  True  True  True False  True False False False False False False\n",
            " False False False False False False False False False False False  True\n",
            "  True  True  True  True  True  True  True  True  True  True  True  True\n",
            "  True False False False False False False False False False False False\n",
            " False False  True  True  True False  True  True  True  True  True False\n",
            "  True False False False  True  True False False False False False False\n",
            " False False False False False  True  True  True  True  True  True  True\n",
            "  True  True  True  True False False False False  True  True  True False\n",
            " False False False False False False False False False  True  True  True\n",
            " False  True  True  True  True  True  True  True False False False False\n",
            " False  True  True  True False False False False False False False False\n",
            "  True  True  True False  True  True  True  True  True  True  True False\n",
            " False False False False False  True  True  True False False False False\n",
            " False False False False False  True False False  True False  True  True\n",
            " False  True  True  True False False False False False  True  True  True\n",
            " False False False False False False False False  True  True  True  True\n",
            "  True  True  True  True  True  True  True  True  True False False False\n",
            " False False  True  True  True  True False False False False False False\n",
            "  True  True  True  True False  True  True  True False False False False\n",
            " False False False  True False  True  True  True  True False False False\n",
            " False False False False False False  True  True  True  True  True  True\n",
            " False False False False False False False False  True  True  True  True\n",
            " False False False False False False False False False  True  True  True\n",
            "  True False  True False False False False False  True False False  True\n",
            "  True False  True False False False False False False False False False\n",
            "  True  True  True  True  True  True False False False False  True  True\n",
            "  True  True  True  True False False False False False False False False\n",
            " False False False False  True False  True  True  True  True False False\n",
            " False False  True  True  True  True False  True False False False False\n",
            "  True  True  True False False False False False False False  True  True\n",
            "  True  True False False  True  True  True  True  True  True False False\n",
            " False  True  True  True  True  True  True False False False False False\n",
            " False  True  True  True  True False False False  True  True  True  True\n",
            "  True  True False False False  True  True  True  True  True  True False\n",
            " False  True  True  True False  True  True  True  True False False  True\n",
            "  True  True  True  True False False False False False  True  True  True\n",
            "  True False  True False False False False False False  True  True False\n",
            "  True False False False False  True  True False False False False False\n",
            " False  True  True  True False False  True False False False False False\n",
            " False  True  True False False False False False False  True  True False\n",
            " False False False False  True False  True  True False False  True False\n",
            " False False False False False  True  True False False False False False\n",
            " False  True  True False False False False False False False  True False\n",
            " False False False False False False False False False  True  True  True\n",
            "  True False False False False False  True False False False False False\n",
            "  True  True  True  True False False False False False False False False\n",
            " False  True  True  True  True False False  True  True False  True False\n",
            "  True  True False False  True False  True  True  True  True False False\n",
            " False False False False False  True  True  True False False  True  True\n",
            "  True  True  True  True False False False False  True False  True  True\n",
            "  True False False False False False False False False  True False  True\n",
            " False False  True  True  True  True  True False False False False False\n",
            " False  True  True  True False False False False False False False False\n",
            " False  True False  True False False False False False  True  True False\n",
            " False  True False False  True False  True  True False False False False\n",
            " False False False False False  True False False False False False False\n",
            " False False  True False False  True False False False False False False\n",
            " False False False False False False False False False False False False\n",
            "  True  True False False False  True  True False  True  True False False\n",
            " False False False False False False False False False False False False\n",
            " False False False False False False False  True False  True  True  True\n",
            "  True  True  True False False False False False False False False False\n",
            " False False False False False False False False False False False False\n",
            " False  True  True  True  True False False False False False False False\n",
            " False False False False]\n"
          ],
          "name": "stdout"
        }
      ]
    },
    {
      "cell_type": "code",
      "metadata": {
        "id": "oVb1vCv0ikx1"
      },
      "source": [
        "print(selected_feat)"
      ],
      "execution_count": null,
      "outputs": []
    },
    {
      "cell_type": "code",
      "metadata": {
        "id": "7HJX2NC2il4w"
      },
      "source": [
        "pd.series(sel.estimator_,feature_importances_,.ravel()).hist()"
      ],
      "execution_count": null,
      "outputs": []
    }
  ]
}