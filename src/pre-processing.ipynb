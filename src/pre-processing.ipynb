{
 "metadata": {
  "language_info": {
   "codemirror_mode": {
    "name": "ipython",
    "version": 3
   },
   "file_extension": ".py",
   "mimetype": "text/x-python",
   "name": "python",
   "nbconvert_exporter": "python",
   "pygments_lexer": "ipython3",
   "version": "3.8.6-final"
  },
  "orig_nbformat": 2,
  "kernelspec": {
   "name": "Python 3.8.6 64-bit",
   "display_name": "Python 3.8.6 64-bit",
   "metadata": {
    "interpreter": {
     "hash": "291ada4285d81b7724775da889f1025824cfcf5691e48ef89418ffd1713b1d97"
    }
   }
  }
 },
 "nbformat": 4,
 "nbformat_minor": 2,
 "cells": [
  {
   "cell_type": "code",
   "execution_count": 19,
   "metadata": {},
   "outputs": [],
   "source": [
    "import pandas as pd"
   ]
  },
  {
   "cell_type": "code",
   "execution_count": 20,
   "metadata": {},
   "outputs": [],
   "source": [
    "path = r\"C:\\Users\\HP\\Documents\\GitHub\\Last-Mile-206\\datasets\\WorldEconomicOutlookData.csv\"\n",
    "df = pd.read_csv(path)"
   ]
  },
  {
   "cell_type": "code",
   "execution_count": 21,
   "metadata": {
    "tags": []
   },
   "outputs": [
    {
     "output_type": "stream",
     "name": "stdout",
     "text": "[&#39;Gross domestic product, constant prices&#39;\n &#39;Gross domestic product, current prices&#39;\n &#39;Gross domestic product per capita, constant prices&#39;\n &#39;Inflation, average consumer prices&#39;\n &#39;Inflation, end of period consumer prices&#39; &#39;Unemployment rate&#39;\n &#39;General government net lending/borrowing&#39; &#39;Current account balance&#39; nan]\nIndex([&#39;WEO Country Code&#39;, &#39;ISO&#39;, &#39;WEO Subject Code&#39;, &#39;Country&#39;,\n       &#39;Subject Descriptor&#39;, &#39;Subject Notes&#39;, &#39;Units&#39;, &#39;Scale&#39;,\n       &#39;Country/Series-specific Notes&#39;, &#39;1980&#39;, &#39;1981&#39;, &#39;1982&#39;, &#39;1983&#39;, &#39;1984&#39;,\n       &#39;1985&#39;, &#39;1986&#39;, &#39;1987&#39;, &#39;1988&#39;, &#39;1989&#39;, &#39;1990&#39;, &#39;1991&#39;, &#39;1992&#39;, &#39;1993&#39;,\n       &#39;1994&#39;, &#39;1995&#39;, &#39;1996&#39;, &#39;1997&#39;, &#39;1998&#39;, &#39;1999&#39;, &#39;2000&#39;, &#39;2001&#39;, &#39;2002&#39;,\n       &#39;2003&#39;, &#39;2004&#39;, &#39;2005&#39;, &#39;2006&#39;, &#39;2007&#39;, &#39;2008&#39;, &#39;2009&#39;, &#39;2010&#39;, &#39;2011&#39;,\n       &#39;2012&#39;, &#39;2013&#39;, &#39;2014&#39;, &#39;2015&#39;, &#39;2016&#39;, &#39;2017&#39;, &#39;2018&#39;, &#39;2019&#39;, &#39;2020&#39;,\n       &#39;2021&#39;, &#39;Estimates Start After&#39;],\n      dtype=&#39;object&#39;)\n"
    }
   ],
   "source": [
    "unique_descriptor = df[\"Subject Descriptor\"].unique()\n",
    "print(unique_descriptor)\n",
    "column_names = df.columns\n",
    "print(column_names)"
   ]
  },
  {
   "cell_type": "code",
   "execution_count": 22,
   "metadata": {
    "tags": []
   },
   "outputs": [
    {
     "output_type": "stream",
     "name": "stdout",
     "text": "[&#39;Percent change&#39;]\nIndex([&#39;WEO Country Code&#39;, &#39;ISO&#39;, &#39;WEO Subject Code&#39;, &#39;Country&#39;,\n       &#39;Subject Descriptor&#39;, &#39;Subject Notes&#39;, &#39;Units&#39;, &#39;Scale&#39;,\n       &#39;Country/Series-specific Notes&#39;, &#39;1980&#39;, &#39;1981&#39;, &#39;1982&#39;, &#39;1983&#39;, &#39;1984&#39;,\n       &#39;1985&#39;, &#39;1986&#39;, &#39;1987&#39;, &#39;1988&#39;, &#39;1989&#39;, &#39;1990&#39;, &#39;1991&#39;, &#39;1992&#39;, &#39;1993&#39;,\n       &#39;1994&#39;, &#39;1995&#39;, &#39;1996&#39;, &#39;1997&#39;, &#39;1998&#39;, &#39;1999&#39;, &#39;2000&#39;, &#39;2001&#39;, &#39;2002&#39;,\n       &#39;2003&#39;, &#39;2004&#39;, &#39;2005&#39;, &#39;2006&#39;, &#39;2007&#39;, &#39;2008&#39;, &#39;2009&#39;, &#39;2010&#39;, &#39;2011&#39;,\n       &#39;2012&#39;, &#39;2013&#39;, &#39;2014&#39;, &#39;2015&#39;, &#39;2016&#39;, &#39;2017&#39;, &#39;2018&#39;, &#39;2019&#39;, &#39;2020&#39;,\n       &#39;2021&#39;, &#39;Estimates Start After&#39;],\n      dtype=&#39;object&#39;)\n194\nIndex([&#39;gdp_const_1980&#39;, &#39;gdp_const_1981&#39;, &#39;gdp_const_1982&#39;, &#39;gdp_const_1983&#39;,\n       &#39;gdp_const_1984&#39;, &#39;gdp_const_1985&#39;, &#39;gdp_const_1986&#39;, &#39;gdp_const_1987&#39;,\n       &#39;gdp_const_1988&#39;, &#39;gdp_const_1989&#39;, &#39;gdp_const_1990&#39;, &#39;gdp_const_1991&#39;,\n       &#39;gdp_const_1992&#39;, &#39;gdp_const_1993&#39;, &#39;gdp_const_1994&#39;, &#39;gdp_const_1995&#39;,\n       &#39;gdp_const_1996&#39;, &#39;gdp_const_1997&#39;, &#39;gdp_const_1998&#39;, &#39;gdp_const_1999&#39;,\n       &#39;gdp_const_2000&#39;, &#39;gdp_const_2001&#39;, &#39;gdp_const_2002&#39;, &#39;gdp_const_2003&#39;,\n       &#39;gdp_const_2004&#39;, &#39;gdp_const_2005&#39;, &#39;gdp_const_2006&#39;, &#39;gdp_const_2007&#39;,\n       &#39;gdp_const_2008&#39;, &#39;gdp_const_2009&#39;, &#39;gdp_const_2010&#39;, &#39;gdp_const_2011&#39;,\n       &#39;gdp_const_2012&#39;, &#39;gdp_const_2013&#39;, &#39;gdp_const_2014&#39;, &#39;gdp_const_2015&#39;,\n       &#39;gdp_const_2016&#39;, &#39;gdp_const_2017&#39;, &#39;gdp_const_2018&#39;, &#39;gdp_const_2019&#39;,\n       &#39;gdp_const_2020&#39;, &#39;gdp_const_2021&#39;, &#39;gdp_const_Estimates Start After&#39;],\n      dtype=&#39;object&#39;)\n"
    },
    {
     "output_type": "execute_result",
     "data": {
      "text/plain": "  gdp_const_1980 gdp_const_1981 gdp_const_1982 gdp_const_1983 gdp_const_1984  \\\n0            NaN            NaN            NaN            NaN            NaN   \n1          2.684            5.7            2.9            1.1              2   \n2           -5.4              3            6.4            5.4            5.6   \n3          2.406           -4.4             --            4.2              6   \n4          8.161          3.815         -0.084          5.364         10.165   \n\n  gdp_const_1985 gdp_const_1986 gdp_const_1987 gdp_const_1988 gdp_const_1989  \\\n0            NaN            NaN            NaN            NaN            NaN   \n1           -1.5            5.6           -0.8           -1.4            9.8   \n2            5.6           -0.2           -0.7           -1.9            4.8   \n3            3.5            2.9          4.083          6.129          0.042   \n4          7.644         11.494          6.626          5.213          5.252   \n\n   ... gdp_const_2013 gdp_const_2014 gdp_const_2015 gdp_const_2016  \\\n0  ...          5.683          2.697          0.988          2.164   \n1  ...          1.002          1.774          2.219          3.315   \n2  ...            2.8            3.8            3.7            3.2   \n3  ...          4.955          4.823          0.944          -2.58   \n4  ...         -0.601          3.797          3.824          5.498   \n\n  gdp_const_2017 gdp_const_2018 gdp_const_2019 gdp_const_2020 gdp_const_2021  \\\n0          2.889          2.664          3.037         -3.007          4.495   \n1          3.802          4.071          2.214         -5.006              8   \n2            1.3            1.4            0.7         -5.157          6.231   \n3          -0.15           -1.2         -1.503         -1.374          2.644   \n4          3.145          7.389          5.264         -9.998          7.959   \n\n  gdp_const_Estimates Start After  \n0                          2018.0  \n1                          2018.0  \n2                          2019.0  \n3                          2018.0  \n4                          2018.0  \n\n[5 rows x 43 columns]",
      "text/html": "<div>\n<style scoped>\n    .dataframe tbody tr th:only-of-type {\n        vertical-align: middle;\n    }\n\n    .dataframe tbody tr th {\n        vertical-align: top;\n    }\n\n    .dataframe thead th {\n        text-align: right;\n    }\n</style>\n<table border=\"1\" class=\"dataframe\">\n  <thead>\n    <tr style=\"text-align: right;\">\n      <th></th>\n      <th>gdp_const_1980</th>\n      <th>gdp_const_1981</th>\n      <th>gdp_const_1982</th>\n      <th>gdp_const_1983</th>\n      <th>gdp_const_1984</th>\n      <th>gdp_const_1985</th>\n      <th>gdp_const_1986</th>\n      <th>gdp_const_1987</th>\n      <th>gdp_const_1988</th>\n      <th>gdp_const_1989</th>\n      <th>...</th>\n      <th>gdp_const_2013</th>\n      <th>gdp_const_2014</th>\n      <th>gdp_const_2015</th>\n      <th>gdp_const_2016</th>\n      <th>gdp_const_2017</th>\n      <th>gdp_const_2018</th>\n      <th>gdp_const_2019</th>\n      <th>gdp_const_2020</th>\n      <th>gdp_const_2021</th>\n      <th>gdp_const_Estimates Start After</th>\n    </tr>\n  </thead>\n  <tbody>\n    <tr>\n      <th>0</th>\n      <td>NaN</td>\n      <td>NaN</td>\n      <td>NaN</td>\n      <td>NaN</td>\n      <td>NaN</td>\n      <td>NaN</td>\n      <td>NaN</td>\n      <td>NaN</td>\n      <td>NaN</td>\n      <td>NaN</td>\n      <td>...</td>\n      <td>5.683</td>\n      <td>2.697</td>\n      <td>0.988</td>\n      <td>2.164</td>\n      <td>2.889</td>\n      <td>2.664</td>\n      <td>3.037</td>\n      <td>-3.007</td>\n      <td>4.495</td>\n      <td>2018.0</td>\n    </tr>\n    <tr>\n      <th>1</th>\n      <td>2.684</td>\n      <td>5.7</td>\n      <td>2.9</td>\n      <td>1.1</td>\n      <td>2</td>\n      <td>-1.5</td>\n      <td>5.6</td>\n      <td>-0.8</td>\n      <td>-1.4</td>\n      <td>9.8</td>\n      <td>...</td>\n      <td>1.002</td>\n      <td>1.774</td>\n      <td>2.219</td>\n      <td>3.315</td>\n      <td>3.802</td>\n      <td>4.071</td>\n      <td>2.214</td>\n      <td>-5.006</td>\n      <td>8</td>\n      <td>2018.0</td>\n    </tr>\n    <tr>\n      <th>2</th>\n      <td>-5.4</td>\n      <td>3</td>\n      <td>6.4</td>\n      <td>5.4</td>\n      <td>5.6</td>\n      <td>5.6</td>\n      <td>-0.2</td>\n      <td>-0.7</td>\n      <td>-1.9</td>\n      <td>4.8</td>\n      <td>...</td>\n      <td>2.8</td>\n      <td>3.8</td>\n      <td>3.7</td>\n      <td>3.2</td>\n      <td>1.3</td>\n      <td>1.4</td>\n      <td>0.7</td>\n      <td>-5.157</td>\n      <td>6.231</td>\n      <td>2019.0</td>\n    </tr>\n    <tr>\n      <th>3</th>\n      <td>2.406</td>\n      <td>-4.4</td>\n      <td>--</td>\n      <td>4.2</td>\n      <td>6</td>\n      <td>3.5</td>\n      <td>2.9</td>\n      <td>4.083</td>\n      <td>6.129</td>\n      <td>0.042</td>\n      <td>...</td>\n      <td>4.955</td>\n      <td>4.823</td>\n      <td>0.944</td>\n      <td>-2.58</td>\n      <td>-0.15</td>\n      <td>-1.2</td>\n      <td>-1.503</td>\n      <td>-1.374</td>\n      <td>2.644</td>\n      <td>2018.0</td>\n    </tr>\n    <tr>\n      <th>4</th>\n      <td>8.161</td>\n      <td>3.815</td>\n      <td>-0.084</td>\n      <td>5.364</td>\n      <td>10.165</td>\n      <td>7.644</td>\n      <td>11.494</td>\n      <td>6.626</td>\n      <td>5.213</td>\n      <td>5.252</td>\n      <td>...</td>\n      <td>-0.601</td>\n      <td>3.797</td>\n      <td>3.824</td>\n      <td>5.498</td>\n      <td>3.145</td>\n      <td>7.389</td>\n      <td>5.264</td>\n      <td>-9.998</td>\n      <td>7.959</td>\n      <td>2018.0</td>\n    </tr>\n  </tbody>\n</table>\n<p>5 rows × 43 columns</p>\n</div>"
     },
     "metadata": {},
     "execution_count": 22
    }
   ],
   "source": [
    "#dataframe with GDP,constant prices information\n",
    "df_gdp_const = df[df[\"Subject Descriptor\"]==\"Gross domestic product, constant prices\"]\n",
    "print(df_gdp_const[\"Units\"].unique())\n",
    "print(df_gdp_const.columns)\n",
    "df_gdp_const.sort_values(by=\"Country\", inplace = True)\n",
    "print(len(df_gdp_const))\n",
    "df_save = df_gdp_const[['WEO Country Code', 'ISO', 'WEO Subject Code', 'Country',\n",
    "       'Subject Descriptor', 'Subject Notes', 'Units', 'Scale',\n",
    "       'Country/Series-specific Notes']].copy()\n",
    "df_save.reset_index(inplace = True)\n",
    "df_save = df_save.reindex(range(0,194))\n",
    "df_save.head(5)\n",
    "df_gdp_const.columns = ['gdp_const_' + str(col) for col in df_gdp_const.columns]\n",
    "df_gdp_const.drop(['gdp_const_WEO Country Code', 'gdp_const_ISO',\n",
    "       'gdp_const_WEO Subject Code', 'gdp_const_Country',\n",
    "       'gdp_const_Subject Descriptor', 'gdp_const_Subject Notes',\n",
    "       'gdp_const_Units', 'gdp_const_Scale',\n",
    "       'gdp_const_Country/Series-specific Notes'], inplace= True, axis = 1)\n",
    "print(df_gdp_const.columns)\n",
    "df_gdp_const.reset_index(inplace = True)\n",
    "df_gdp_const = df_gdp_const.reindex(range(0,194))\n",
    "df_gdp_const.drop(['index'],inplace = True, axis =1 )\n",
    "df_gdp_const.head(5)"
   ]
  },
  {
   "cell_type": "code",
   "execution_count": 23,
   "metadata": {
    "tags": []
   },
   "outputs": [
    {
     "output_type": "stream",
     "name": "stdout",
     "text": "[&#39;Purchasing power parity; international dollars&#39;]\n194\nIndex([&#39;gdp_curr_1980&#39;, &#39;gdp_curr_1981&#39;, &#39;gdp_curr_1982&#39;, &#39;gdp_curr_1983&#39;,\n       &#39;gdp_curr_1984&#39;, &#39;gdp_curr_1985&#39;, &#39;gdp_curr_1986&#39;, &#39;gdp_curr_1987&#39;,\n       &#39;gdp_curr_1988&#39;, &#39;gdp_curr_1989&#39;, &#39;gdp_curr_1990&#39;, &#39;gdp_curr_1991&#39;,\n       &#39;gdp_curr_1992&#39;, &#39;gdp_curr_1993&#39;, &#39;gdp_curr_1994&#39;, &#39;gdp_curr_1995&#39;,\n       &#39;gdp_curr_1996&#39;, &#39;gdp_curr_1997&#39;, &#39;gdp_curr_1998&#39;, &#39;gdp_curr_1999&#39;,\n       &#39;gdp_curr_2000&#39;, &#39;gdp_curr_2001&#39;, &#39;gdp_curr_2002&#39;, &#39;gdp_curr_2003&#39;,\n       &#39;gdp_curr_2004&#39;, &#39;gdp_curr_2005&#39;, &#39;gdp_curr_2006&#39;, &#39;gdp_curr_2007&#39;,\n       &#39;gdp_curr_2008&#39;, &#39;gdp_curr_2009&#39;, &#39;gdp_curr_2010&#39;, &#39;gdp_curr_2011&#39;,\n       &#39;gdp_curr_2012&#39;, &#39;gdp_curr_2013&#39;, &#39;gdp_curr_2014&#39;, &#39;gdp_curr_2015&#39;,\n       &#39;gdp_curr_2016&#39;, &#39;gdp_curr_2017&#39;, &#39;gdp_curr_2018&#39;, &#39;gdp_curr_2019&#39;,\n       &#39;gdp_curr_2020&#39;, &#39;gdp_curr_2021&#39;, &#39;gdp_curr_Estimates Start After&#39;],\n      dtype=&#39;object&#39;)\n"
    },
    {
     "output_type": "execute_result",
     "data": {
      "text/plain": "  gdp_curr_1980 gdp_curr_1981 gdp_curr_1982 gdp_curr_1983 gdp_curr_1984  \\\n0           NaN           NaN           NaN           NaN           NaN   \n1         5.563         6.437         7.033         7.388         7.808   \n2         86.89        97.964       110.674       121.219       132.626   \n3         10.31        10.789        11.456        12.404        13.623   \n4         0.268         0.304         0.323         0.353         0.403   \n\n  gdp_curr_1985 gdp_curr_1986 gdp_curr_1987 gdp_curr_1988 gdp_curr_1989  ...  \\\n0           NaN           NaN           NaN           NaN           NaN  ...   \n1         7.934         8.547         8.689         8.869         10.12  ...   \n2       144.483       147.097        149.68       152.014       165.557  ...   \n3        14.546        15.269        16.285        17.893        18.602  ...   \n4         0.448         0.509         0.556         0.606         0.663  ...   \n\n  gdp_curr_2013 gdp_curr_2014 gdp_curr_2015 gdp_curr_2016 gdp_curr_2017  \\\n0        60.181        62.948        64.231        66.301        69.501   \n1        30.398         31.51        32.545        33.972        35.928   \n2       527.206       557.368       584.008       608.937        628.47   \n3       181.601       193.882       197.749       194.641       198.009   \n4          1.89         1.998         2.097         2.235         2.348   \n\n  gdp_curr_2018 gdp_curr_2019 gdp_curr_2020 gdp_curr_2021  \\\n0        73.091        76.624        74.792        79.678   \n1        38.301        39.832        38.078        41.926   \n2       652.795       668.827       638.363       691.364   \n3         200.4        200.83       199.329       208.589   \n4         2.583         2.767         2.506         2.758   \n\n  gdp_curr_Estimates Start After  \n0                         2018.0  \n1                         2018.0  \n2                         2019.0  \n3                         2018.0  \n4                         2018.0  \n\n[5 rows x 43 columns]",
      "text/html": "<div>\n<style scoped>\n    .dataframe tbody tr th:only-of-type {\n        vertical-align: middle;\n    }\n\n    .dataframe tbody tr th {\n        vertical-align: top;\n    }\n\n    .dataframe thead th {\n        text-align: right;\n    }\n</style>\n<table border=\"1\" class=\"dataframe\">\n  <thead>\n    <tr style=\"text-align: right;\">\n      <th></th>\n      <th>gdp_curr_1980</th>\n      <th>gdp_curr_1981</th>\n      <th>gdp_curr_1982</th>\n      <th>gdp_curr_1983</th>\n      <th>gdp_curr_1984</th>\n      <th>gdp_curr_1985</th>\n      <th>gdp_curr_1986</th>\n      <th>gdp_curr_1987</th>\n      <th>gdp_curr_1988</th>\n      <th>gdp_curr_1989</th>\n      <th>...</th>\n      <th>gdp_curr_2013</th>\n      <th>gdp_curr_2014</th>\n      <th>gdp_curr_2015</th>\n      <th>gdp_curr_2016</th>\n      <th>gdp_curr_2017</th>\n      <th>gdp_curr_2018</th>\n      <th>gdp_curr_2019</th>\n      <th>gdp_curr_2020</th>\n      <th>gdp_curr_2021</th>\n      <th>gdp_curr_Estimates Start After</th>\n    </tr>\n  </thead>\n  <tbody>\n    <tr>\n      <th>0</th>\n      <td>NaN</td>\n      <td>NaN</td>\n      <td>NaN</td>\n      <td>NaN</td>\n      <td>NaN</td>\n      <td>NaN</td>\n      <td>NaN</td>\n      <td>NaN</td>\n      <td>NaN</td>\n      <td>NaN</td>\n      <td>...</td>\n      <td>60.181</td>\n      <td>62.948</td>\n      <td>64.231</td>\n      <td>66.301</td>\n      <td>69.501</td>\n      <td>73.091</td>\n      <td>76.624</td>\n      <td>74.792</td>\n      <td>79.678</td>\n      <td>2018.0</td>\n    </tr>\n    <tr>\n      <th>1</th>\n      <td>5.563</td>\n      <td>6.437</td>\n      <td>7.033</td>\n      <td>7.388</td>\n      <td>7.808</td>\n      <td>7.934</td>\n      <td>8.547</td>\n      <td>8.689</td>\n      <td>8.869</td>\n      <td>10.12</td>\n      <td>...</td>\n      <td>30.398</td>\n      <td>31.51</td>\n      <td>32.545</td>\n      <td>33.972</td>\n      <td>35.928</td>\n      <td>38.301</td>\n      <td>39.832</td>\n      <td>38.078</td>\n      <td>41.926</td>\n      <td>2018.0</td>\n    </tr>\n    <tr>\n      <th>2</th>\n      <td>86.89</td>\n      <td>97.964</td>\n      <td>110.674</td>\n      <td>121.219</td>\n      <td>132.626</td>\n      <td>144.483</td>\n      <td>147.097</td>\n      <td>149.68</td>\n      <td>152.014</td>\n      <td>165.557</td>\n      <td>...</td>\n      <td>527.206</td>\n      <td>557.368</td>\n      <td>584.008</td>\n      <td>608.937</td>\n      <td>628.47</td>\n      <td>652.795</td>\n      <td>668.827</td>\n      <td>638.363</td>\n      <td>691.364</td>\n      <td>2019.0</td>\n    </tr>\n    <tr>\n      <th>3</th>\n      <td>10.31</td>\n      <td>10.789</td>\n      <td>11.456</td>\n      <td>12.404</td>\n      <td>13.623</td>\n      <td>14.546</td>\n      <td>15.269</td>\n      <td>16.285</td>\n      <td>17.893</td>\n      <td>18.602</td>\n      <td>...</td>\n      <td>181.601</td>\n      <td>193.882</td>\n      <td>197.749</td>\n      <td>194.641</td>\n      <td>198.009</td>\n      <td>200.4</td>\n      <td>200.83</td>\n      <td>199.329</td>\n      <td>208.589</td>\n      <td>2018.0</td>\n    </tr>\n    <tr>\n      <th>4</th>\n      <td>0.268</td>\n      <td>0.304</td>\n      <td>0.323</td>\n      <td>0.353</td>\n      <td>0.403</td>\n      <td>0.448</td>\n      <td>0.509</td>\n      <td>0.556</td>\n      <td>0.606</td>\n      <td>0.663</td>\n      <td>...</td>\n      <td>1.89</td>\n      <td>1.998</td>\n      <td>2.097</td>\n      <td>2.235</td>\n      <td>2.348</td>\n      <td>2.583</td>\n      <td>2.767</td>\n      <td>2.506</td>\n      <td>2.758</td>\n      <td>2018.0</td>\n    </tr>\n  </tbody>\n</table>\n<p>5 rows × 43 columns</p>\n</div>"
     },
     "metadata": {},
     "execution_count": 23
    }
   ],
   "source": [
    "#dataframe with GDP,current prices information\n",
    "df_gdp_curr = df[df[\"Subject Descriptor\"]==\"Gross domestic product, current prices\"]\n",
    "print(df_gdp_curr[\"Units\"].unique())\n",
    "df_gdp_curr.sort_values(by=\"Country\", inplace = True)\n",
    "print(len(df_gdp_curr))\n",
    "df_gdp_curr.columns = ['gdp_curr_' + str(col) for col in df_gdp_curr.columns]\n",
    "df_gdp_curr.drop(['gdp_curr_WEO Country Code', 'gdp_curr_ISO',\n",
    "       'gdp_curr_WEO Subject Code', 'gdp_curr_Country',\n",
    "       'gdp_curr_Subject Descriptor', 'gdp_curr_Subject Notes',\n",
    "       'gdp_curr_Units', 'gdp_curr_Scale',\n",
    "       'gdp_curr_Country/Series-specific Notes'], inplace= True, axis = 1)\n",
    "print(df_gdp_curr.columns)\n",
    "df_gdp_curr.reset_index(inplace = True)\n",
    "df_gdp_curr = df_gdp_curr.reindex(range(0,194))\n",
    "df_gdp_curr.drop(['index'],inplace = True, axis =1 )\n",
    "df_gdp_curr.head(5)"
   ]
  },
  {
   "cell_type": "code",
   "execution_count": 24,
   "metadata": {
    "tags": []
   },
   "outputs": [
    {
     "output_type": "stream",
     "name": "stdout",
     "text": "[&#39;Purchasing power parity; percent change&#39;]\n194\nIndex([&#39;gdp_captia_1980&#39;, &#39;gdp_captia_1981&#39;, &#39;gdp_captia_1982&#39;,\n       &#39;gdp_captia_1983&#39;, &#39;gdp_captia_1984&#39;, &#39;gdp_captia_1985&#39;,\n       &#39;gdp_captia_1986&#39;, &#39;gdp_captia_1987&#39;, &#39;gdp_captia_1988&#39;,\n       &#39;gdp_captia_1989&#39;, &#39;gdp_captia_1990&#39;, &#39;gdp_captia_1991&#39;,\n       &#39;gdp_captia_1992&#39;, &#39;gdp_captia_1993&#39;, &#39;gdp_captia_1994&#39;,\n       &#39;gdp_captia_1995&#39;, &#39;gdp_captia_1996&#39;, &#39;gdp_captia_1997&#39;,\n       &#39;gdp_captia_1998&#39;, &#39;gdp_captia_1999&#39;, &#39;gdp_captia_2000&#39;,\n       &#39;gdp_captia_2001&#39;, &#39;gdp_captia_2002&#39;, &#39;gdp_captia_2003&#39;,\n       &#39;gdp_captia_2004&#39;, &#39;gdp_captia_2005&#39;, &#39;gdp_captia_2006&#39;,\n       &#39;gdp_captia_2007&#39;, &#39;gdp_captia_2008&#39;, &#39;gdp_captia_2009&#39;,\n       &#39;gdp_captia_2010&#39;, &#39;gdp_captia_2011&#39;, &#39;gdp_captia_2012&#39;,\n       &#39;gdp_captia_2013&#39;, &#39;gdp_captia_2014&#39;, &#39;gdp_captia_2015&#39;,\n       &#39;gdp_captia_2016&#39;, &#39;gdp_captia_2017&#39;, &#39;gdp_captia_2018&#39;,\n       &#39;gdp_captia_2019&#39;, &#39;gdp_captia_2020&#39;, &#39;gdp_captia_2021&#39;,\n       &#39;gdp_captia_Estimates Start After&#39;],\n      dtype=&#39;object&#39;)\n"
    },
    {
     "output_type": "execute_result",
     "data": {
      "text/plain": "  gdp_captia_1980 gdp_captia_1981 gdp_captia_1982 gdp_captia_1983  \\\n0             NaN             NaN             NaN             NaN   \n1           0.602           3.604           0.748          -1.022   \n2          -8.248          -0.104            3.09            2.05   \n3           9.684          -6.916          -2.577           1.542   \n4           8.549           4.635           1.075           6.902   \n\n  gdp_captia_1984 gdp_captia_1985 gdp_captia_1986 gdp_captia_1987  \\\n0             NaN             NaN             NaN             NaN   \n1          -0.124          -3.504           3.578          -2.761   \n2           2.314           0.724          -2.826          -3.246   \n3            3.27          -8.151           0.042           1.489   \n4          11.969           9.476          13.459           8.509   \n\n  gdp_captia_1988 gdp_captia_1989  ... gdp_captia_2013 gdp_captia_2014  \\\n0             NaN             NaN  ...           2.236          -0.521   \n1          -3.243           6.888  ...           1.187           1.985   \n2          -4.749           2.254  ...           0.647           1.632   \n3            3.33          -2.629  ...           1.898            1.77   \n4           6.805           6.222  ...          -2.106           2.225   \n\n  gdp_captia_2015 gdp_captia_2016 gdp_captia_2017 gdp_captia_2018  \\\n0          -1.941          -0.547           0.358           1.268   \n1           2.517            3.48           3.898           4.328   \n2           1.497           0.994          -0.849          -0.641   \n3          -2.007          -5.492          -3.224          -4.151   \n4           2.252           3.901           1.584           5.763   \n\n  gdp_captia_2019 gdp_captia_2020 gdp_captia_2021  \\\n0           1.654          -4.291           3.063   \n1           2.095          -4.854           8.173   \n2          -1.232          -6.907           4.351   \n3          -4.371          -4.246          -0.346   \n4           3.696         -11.321           6.397   \n\n  gdp_captia_Estimates Start After  \n0                           2018.0  \n1                           2018.0  \n2                           2019.0  \n3                           2018.0  \n4                           2018.0  \n\n[5 rows x 43 columns]",
      "text/html": "<div>\n<style scoped>\n    .dataframe tbody tr th:only-of-type {\n        vertical-align: middle;\n    }\n\n    .dataframe tbody tr th {\n        vertical-align: top;\n    }\n\n    .dataframe thead th {\n        text-align: right;\n    }\n</style>\n<table border=\"1\" class=\"dataframe\">\n  <thead>\n    <tr style=\"text-align: right;\">\n      <th></th>\n      <th>gdp_captia_1980</th>\n      <th>gdp_captia_1981</th>\n      <th>gdp_captia_1982</th>\n      <th>gdp_captia_1983</th>\n      <th>gdp_captia_1984</th>\n      <th>gdp_captia_1985</th>\n      <th>gdp_captia_1986</th>\n      <th>gdp_captia_1987</th>\n      <th>gdp_captia_1988</th>\n      <th>gdp_captia_1989</th>\n      <th>...</th>\n      <th>gdp_captia_2013</th>\n      <th>gdp_captia_2014</th>\n      <th>gdp_captia_2015</th>\n      <th>gdp_captia_2016</th>\n      <th>gdp_captia_2017</th>\n      <th>gdp_captia_2018</th>\n      <th>gdp_captia_2019</th>\n      <th>gdp_captia_2020</th>\n      <th>gdp_captia_2021</th>\n      <th>gdp_captia_Estimates Start After</th>\n    </tr>\n  </thead>\n  <tbody>\n    <tr>\n      <th>0</th>\n      <td>NaN</td>\n      <td>NaN</td>\n      <td>NaN</td>\n      <td>NaN</td>\n      <td>NaN</td>\n      <td>NaN</td>\n      <td>NaN</td>\n      <td>NaN</td>\n      <td>NaN</td>\n      <td>NaN</td>\n      <td>...</td>\n      <td>2.236</td>\n      <td>-0.521</td>\n      <td>-1.941</td>\n      <td>-0.547</td>\n      <td>0.358</td>\n      <td>1.268</td>\n      <td>1.654</td>\n      <td>-4.291</td>\n      <td>3.063</td>\n      <td>2018.0</td>\n    </tr>\n    <tr>\n      <th>1</th>\n      <td>0.602</td>\n      <td>3.604</td>\n      <td>0.748</td>\n      <td>-1.022</td>\n      <td>-0.124</td>\n      <td>-3.504</td>\n      <td>3.578</td>\n      <td>-2.761</td>\n      <td>-3.243</td>\n      <td>6.888</td>\n      <td>...</td>\n      <td>1.187</td>\n      <td>1.985</td>\n      <td>2.517</td>\n      <td>3.48</td>\n      <td>3.898</td>\n      <td>4.328</td>\n      <td>2.095</td>\n      <td>-4.854</td>\n      <td>8.173</td>\n      <td>2018.0</td>\n    </tr>\n    <tr>\n      <th>2</th>\n      <td>-8.248</td>\n      <td>-0.104</td>\n      <td>3.09</td>\n      <td>2.05</td>\n      <td>2.314</td>\n      <td>0.724</td>\n      <td>-2.826</td>\n      <td>-3.246</td>\n      <td>-4.749</td>\n      <td>2.254</td>\n      <td>...</td>\n      <td>0.647</td>\n      <td>1.632</td>\n      <td>1.497</td>\n      <td>0.994</td>\n      <td>-0.849</td>\n      <td>-0.641</td>\n      <td>-1.232</td>\n      <td>-6.907</td>\n      <td>4.351</td>\n      <td>2019.0</td>\n    </tr>\n    <tr>\n      <th>3</th>\n      <td>9.684</td>\n      <td>-6.916</td>\n      <td>-2.577</td>\n      <td>1.542</td>\n      <td>3.27</td>\n      <td>-8.151</td>\n      <td>0.042</td>\n      <td>1.489</td>\n      <td>3.33</td>\n      <td>-2.629</td>\n      <td>...</td>\n      <td>1.898</td>\n      <td>1.77</td>\n      <td>-2.007</td>\n      <td>-5.492</td>\n      <td>-3.224</td>\n      <td>-4.151</td>\n      <td>-4.371</td>\n      <td>-4.246</td>\n      <td>-0.346</td>\n      <td>2018.0</td>\n    </tr>\n    <tr>\n      <th>4</th>\n      <td>8.549</td>\n      <td>4.635</td>\n      <td>1.075</td>\n      <td>6.902</td>\n      <td>11.969</td>\n      <td>9.476</td>\n      <td>13.459</td>\n      <td>8.509</td>\n      <td>6.805</td>\n      <td>6.222</td>\n      <td>...</td>\n      <td>-2.106</td>\n      <td>2.225</td>\n      <td>2.252</td>\n      <td>3.901</td>\n      <td>1.584</td>\n      <td>5.763</td>\n      <td>3.696</td>\n      <td>-11.321</td>\n      <td>6.397</td>\n      <td>2018.0</td>\n    </tr>\n  </tbody>\n</table>\n<p>5 rows × 43 columns</p>\n</div>"
     },
     "metadata": {},
     "execution_count": 24
    }
   ],
   "source": [
    "#dataframe with GDP per capita information\n",
    "df_gdp_capita = df[df[\"Subject Descriptor\"]==\"Gross domestic product per capita, constant prices\"]\n",
    "print(df_gdp_capita[\"Units\"].unique())\n",
    "df_gdp_capita.sort_values(by=\"Country\", inplace = True)\n",
    "print(len(df_gdp_capita))\n",
    "df_gdp_capita.columns = ['gdp_captia_' + str(col) for col in df_gdp_capita.columns]\n",
    "df_gdp_capita.drop(['gdp_captia_WEO Country Code', 'gdp_captia_ISO',\n",
    "       'gdp_captia_WEO Subject Code', 'gdp_captia_Country',\n",
    "       'gdp_captia_Subject Descriptor', 'gdp_captia_Subject Notes',\n",
    "       'gdp_captia_Units', 'gdp_captia_Scale',\n",
    "       'gdp_captia_Country/Series-specific Notes'], inplace = True, axis = 1)\n",
    "print(df_gdp_capita.columns)\n",
    "df_gdp_capita.reset_index(inplace = True)\n",
    "df_gdp_capita = df_gdp_capita.reindex(range(0,194))\n",
    "df_gdp_capita.drop(['index'],inplace = True, axis =1 )\n",
    "df_gdp_capita.head(5)"
   ]
  },
  {
   "cell_type": "code",
   "execution_count": 25,
   "metadata": {
    "tags": []
   },
   "outputs": [
    {
     "output_type": "stream",
     "name": "stdout",
     "text": "[&#39;Percent change&#39;]\n194\nIndex([&#39;infl_avg_prices_1980&#39;, &#39;infl_avg_prices_1981&#39;, &#39;infl_avg_prices_1982&#39;,\n       &#39;infl_avg_prices_1983&#39;, &#39;infl_avg_prices_1984&#39;, &#39;infl_avg_prices_1985&#39;,\n       &#39;infl_avg_prices_1986&#39;, &#39;infl_avg_prices_1987&#39;, &#39;infl_avg_prices_1988&#39;,\n       &#39;infl_avg_prices_1989&#39;, &#39;infl_avg_prices_1990&#39;, &#39;infl_avg_prices_1991&#39;,\n       &#39;infl_avg_prices_1992&#39;, &#39;infl_avg_prices_1993&#39;, &#39;infl_avg_prices_1994&#39;,\n       &#39;infl_avg_prices_1995&#39;, &#39;infl_avg_prices_1996&#39;, &#39;infl_avg_prices_1997&#39;,\n       &#39;infl_avg_prices_1998&#39;, &#39;infl_avg_prices_1999&#39;, &#39;infl_avg_prices_2000&#39;,\n       &#39;infl_avg_prices_2001&#39;, &#39;infl_avg_prices_2002&#39;, &#39;infl_avg_prices_2003&#39;,\n       &#39;infl_avg_prices_2004&#39;, &#39;infl_avg_prices_2005&#39;, &#39;infl_avg_prices_2006&#39;,\n       &#39;infl_avg_prices_2007&#39;, &#39;infl_avg_prices_2008&#39;, &#39;infl_avg_prices_2009&#39;,\n       &#39;infl_avg_prices_2010&#39;, &#39;infl_avg_prices_2011&#39;, &#39;infl_avg_prices_2012&#39;,\n       &#39;infl_avg_prices_2013&#39;, &#39;infl_avg_prices_2014&#39;, &#39;infl_avg_prices_2015&#39;,\n       &#39;infl_avg_prices_2016&#39;, &#39;infl_avg_prices_2017&#39;, &#39;infl_avg_prices_2018&#39;,\n       &#39;infl_avg_prices_2019&#39;, &#39;infl_avg_prices_2020&#39;, &#39;infl_avg_prices_2021&#39;,\n       &#39;infl_avg_prices_Estimates Start After&#39;],\n      dtype=&#39;object&#39;)\n"
    },
    {
     "output_type": "execute_result",
     "data": {
      "text/plain": "  infl_avg_prices_1980 infl_avg_prices_1981 infl_avg_prices_1982  \\\n0                  NaN                  NaN                  NaN   \n1                  NaN                  NaN                  NaN   \n2                9.668                14.61                6.593   \n3               46.708                1.391                1.833   \n4               18.999               11.465                 4.17   \n\n  infl_avg_prices_1983 infl_avg_prices_1984 infl_avg_prices_1985  \\\n0                  NaN                  NaN                  NaN   \n1                  NaN                  NaN                  NaN   \n2                7.835                 6.31               10.432   \n3                1.833                1.833                1.833   \n4                2.346                3.844                0.996   \n\n  infl_avg_prices_1986 infl_avg_prices_1987 infl_avg_prices_1988  \\\n0                  NaN                  NaN                  NaN   \n1                  NaN                  NaN                  NaN   \n2               14.007                5.857                5.938   \n3                1.833                1.833                1.833   \n4                  0.5                3.602                  6.8   \n\n  infl_avg_prices_1989  ... infl_avg_prices_2013 infl_avg_prices_2014  \\\n0                  NaN  ...                7.386                4.674   \n1                  NaN  ...                1.925                1.613   \n2                9.172  ...                3.255                2.917   \n3                1.833  ...                8.782                7.298   \n4                4.362  ...                1.059                1.089   \n\n  infl_avg_prices_2015 infl_avg_prices_2016 infl_avg_prices_2017  \\\n0               -0.662                4.384                4.976   \n1                1.868                1.282                1.987   \n2                4.784                6.398                5.591   \n3                9.159               30.694               29.844   \n4                0.969               -0.489                2.432   \n\n  infl_avg_prices_2018 infl_avg_prices_2019 infl_avg_prices_2020  \\\n0                0.626                2.302                4.711   \n1                2.029                1.411                 2.39   \n2                 4.27                1.952                  3.5   \n3               19.629               17.079               20.719   \n4                 1.21                 1.38                1.443   \n\n  infl_avg_prices_2021 infl_avg_prices_Estimates Start After  \n0                4.451                                2018.0  \n1                 2.75                                2019.0  \n2                  3.7                                2019.0  \n3               22.282                                2019.0  \n4                1.685                                2018.0  \n\n[5 rows x 43 columns]",
      "text/html": "<div>\n<style scoped>\n    .dataframe tbody tr th:only-of-type {\n        vertical-align: middle;\n    }\n\n    .dataframe tbody tr th {\n        vertical-align: top;\n    }\n\n    .dataframe thead th {\n        text-align: right;\n    }\n</style>\n<table border=\"1\" class=\"dataframe\">\n  <thead>\n    <tr style=\"text-align: right;\">\n      <th></th>\n      <th>infl_avg_prices_1980</th>\n      <th>infl_avg_prices_1981</th>\n      <th>infl_avg_prices_1982</th>\n      <th>infl_avg_prices_1983</th>\n      <th>infl_avg_prices_1984</th>\n      <th>infl_avg_prices_1985</th>\n      <th>infl_avg_prices_1986</th>\n      <th>infl_avg_prices_1987</th>\n      <th>infl_avg_prices_1988</th>\n      <th>infl_avg_prices_1989</th>\n      <th>...</th>\n      <th>infl_avg_prices_2013</th>\n      <th>infl_avg_prices_2014</th>\n      <th>infl_avg_prices_2015</th>\n      <th>infl_avg_prices_2016</th>\n      <th>infl_avg_prices_2017</th>\n      <th>infl_avg_prices_2018</th>\n      <th>infl_avg_prices_2019</th>\n      <th>infl_avg_prices_2020</th>\n      <th>infl_avg_prices_2021</th>\n      <th>infl_avg_prices_Estimates Start After</th>\n    </tr>\n  </thead>\n  <tbody>\n    <tr>\n      <th>0</th>\n      <td>NaN</td>\n      <td>NaN</td>\n      <td>NaN</td>\n      <td>NaN</td>\n      <td>NaN</td>\n      <td>NaN</td>\n      <td>NaN</td>\n      <td>NaN</td>\n      <td>NaN</td>\n      <td>NaN</td>\n      <td>...</td>\n      <td>7.386</td>\n      <td>4.674</td>\n      <td>-0.662</td>\n      <td>4.384</td>\n      <td>4.976</td>\n      <td>0.626</td>\n      <td>2.302</td>\n      <td>4.711</td>\n      <td>4.451</td>\n      <td>2018.0</td>\n    </tr>\n    <tr>\n      <th>1</th>\n      <td>NaN</td>\n      <td>NaN</td>\n      <td>NaN</td>\n      <td>NaN</td>\n      <td>NaN</td>\n      <td>NaN</td>\n      <td>NaN</td>\n      <td>NaN</td>\n      <td>NaN</td>\n      <td>NaN</td>\n      <td>...</td>\n      <td>1.925</td>\n      <td>1.613</td>\n      <td>1.868</td>\n      <td>1.282</td>\n      <td>1.987</td>\n      <td>2.029</td>\n      <td>1.411</td>\n      <td>2.39</td>\n      <td>2.75</td>\n      <td>2019.0</td>\n    </tr>\n    <tr>\n      <th>2</th>\n      <td>9.668</td>\n      <td>14.61</td>\n      <td>6.593</td>\n      <td>7.835</td>\n      <td>6.31</td>\n      <td>10.432</td>\n      <td>14.007</td>\n      <td>5.857</td>\n      <td>5.938</td>\n      <td>9.172</td>\n      <td>...</td>\n      <td>3.255</td>\n      <td>2.917</td>\n      <td>4.784</td>\n      <td>6.398</td>\n      <td>5.591</td>\n      <td>4.27</td>\n      <td>1.952</td>\n      <td>3.5</td>\n      <td>3.7</td>\n      <td>2019.0</td>\n    </tr>\n    <tr>\n      <th>3</th>\n      <td>46.708</td>\n      <td>1.391</td>\n      <td>1.833</td>\n      <td>1.833</td>\n      <td>1.833</td>\n      <td>1.833</td>\n      <td>1.833</td>\n      <td>1.833</td>\n      <td>1.833</td>\n      <td>1.833</td>\n      <td>...</td>\n      <td>8.782</td>\n      <td>7.298</td>\n      <td>9.159</td>\n      <td>30.694</td>\n      <td>29.844</td>\n      <td>19.629</td>\n      <td>17.079</td>\n      <td>20.719</td>\n      <td>22.282</td>\n      <td>2019.0</td>\n    </tr>\n    <tr>\n      <th>4</th>\n      <td>18.999</td>\n      <td>11.465</td>\n      <td>4.17</td>\n      <td>2.346</td>\n      <td>3.844</td>\n      <td>0.996</td>\n      <td>0.5</td>\n      <td>3.602</td>\n      <td>6.8</td>\n      <td>4.362</td>\n      <td>...</td>\n      <td>1.059</td>\n      <td>1.089</td>\n      <td>0.969</td>\n      <td>-0.489</td>\n      <td>2.432</td>\n      <td>1.21</td>\n      <td>1.38</td>\n      <td>1.443</td>\n      <td>1.685</td>\n      <td>2018.0</td>\n    </tr>\n  </tbody>\n</table>\n<p>5 rows × 43 columns</p>\n</div>"
     },
     "metadata": {},
     "execution_count": 25
    }
   ],
   "source": [
    "#dataframe with inflation on average consumer prices information\n",
    "df_infl_avg_prices = df[df[\"Subject Descriptor\"]==\"Inflation, average consumer prices\"]\n",
    "print(df_infl_avg_prices[\"Units\"].unique())\n",
    "df_infl_avg_prices.sort_values(by=\"Country\", inplace = True)\n",
    "print(len(df_infl_avg_prices))\n",
    "df.sort_values(by=\"Country\", inplace = True)\n",
    "df_infl_avg_prices.columns = ['infl_avg_prices_' + str(col) for col in df_infl_avg_prices.columns]\n",
    "df_infl_avg_prices.drop(['infl_avg_prices_WEO Country Code', 'infl_avg_prices_ISO',\n",
    "       'infl_avg_prices_WEO Subject Code', 'infl_avg_prices_Country',\n",
    "       'infl_avg_prices_Subject Descriptor', 'infl_avg_prices_Subject Notes',\n",
    "       'infl_avg_prices_Units', 'infl_avg_prices_Scale',\n",
    "       'infl_avg_prices_Country/Series-specific Notes'], inplace = True, axis = 1)\n",
    "print(df_infl_avg_prices.columns)\n",
    "df_infl_avg_prices.reset_index(inplace = True)\n",
    "df_infl_avg_prices = df_infl_avg_prices.reindex(range(0,194))\n",
    "df_infl_avg_prices.drop(['index'],inplace = True, axis =1 )\n",
    "df_infl_avg_prices.head(5)"
   ]
  },
  {
   "cell_type": "code",
   "execution_count": 26,
   "metadata": {
    "tags": []
   },
   "outputs": [
    {
     "output_type": "stream",
     "name": "stdout",
     "text": "[&#39;Percent change&#39;]\n194\nIndex([&#39;infl_end_prices_1980&#39;, &#39;infl_end_prices_1981&#39;, &#39;infl_end_prices_1982&#39;,\n       &#39;infl_end_prices_1983&#39;, &#39;infl_end_prices_1984&#39;, &#39;infl_end_prices_1985&#39;,\n       &#39;infl_end_prices_1986&#39;, &#39;infl_end_prices_1987&#39;, &#39;infl_end_prices_1988&#39;,\n       &#39;infl_end_prices_1989&#39;, &#39;infl_end_prices_1990&#39;, &#39;infl_end_prices_1991&#39;,\n       &#39;infl_end_prices_1992&#39;, &#39;infl_end_prices_1993&#39;, &#39;infl_end_prices_1994&#39;,\n       &#39;infl_end_prices_1995&#39;, &#39;infl_end_prices_1996&#39;, &#39;infl_end_prices_1997&#39;,\n       &#39;infl_end_prices_1998&#39;, &#39;infl_end_prices_1999&#39;, &#39;infl_end_prices_2000&#39;,\n       &#39;infl_end_prices_2001&#39;, &#39;infl_end_prices_2002&#39;, &#39;infl_end_prices_2003&#39;,\n       &#39;infl_end_prices_2004&#39;, &#39;infl_end_prices_2005&#39;, &#39;infl_end_prices_2006&#39;,\n       &#39;infl_end_prices_2007&#39;, &#39;infl_end_prices_2008&#39;, &#39;infl_end_prices_2009&#39;,\n       &#39;infl_end_prices_2010&#39;, &#39;infl_end_prices_2011&#39;, &#39;infl_end_prices_2012&#39;,\n       &#39;infl_end_prices_2013&#39;, &#39;infl_end_prices_2014&#39;, &#39;infl_end_prices_2015&#39;,\n       &#39;infl_end_prices_2016&#39;, &#39;infl_end_prices_2017&#39;, &#39;infl_end_prices_2018&#39;,\n       &#39;infl_end_prices_2019&#39;, &#39;infl_end_prices_2020&#39;, &#39;infl_end_prices_2021&#39;,\n       &#39;infl_end_prices_Estimates Start After&#39;],\n      dtype=&#39;object&#39;)\n"
    },
    {
     "output_type": "execute_result",
     "data": {
      "text/plain": "  infl_end_prices_1980 infl_end_prices_1981 infl_end_prices_1982  \\\n0                  NaN                  NaN                  NaN   \n1                  NaN                  NaN                  NaN   \n2               14.143                6.632                5.251   \n3                  NaN                1.833                1.833   \n4                17.71                 7.16                2.617   \n\n  infl_end_prices_1983 infl_end_prices_1984 infl_end_prices_1985  \\\n0                  NaN                  NaN                  NaN   \n1                  NaN                  NaN                  NaN   \n2               12.695               10.662               12.458   \n3                1.833                1.833                1.833   \n4                3.114                3.219               -0.721   \n\n  infl_end_prices_1986 infl_end_prices_1987 infl_end_prices_1988  \\\n0                  NaN                  NaN                  NaN   \n1                  NaN                  NaN                  NaN   \n2               11.891                3.168                8.637   \n3                1.833                1.833                1.833   \n4                1.967                5.822                5.518   \n\n  infl_end_prices_1989  ... infl_end_prices_2013 infl_end_prices_2014  \\\n0                  NaN  ...                7.241                1.487   \n1                  NaN  ...                1.776                0.719   \n2               10.718  ...                1.148                5.253   \n3                1.833  ...                7.687                7.498   \n4                 4.88  ...                1.059                1.327   \n\n  infl_end_prices_2015 infl_end_prices_2016 infl_end_prices_2017  \\\n0                1.131                4.588                3.041   \n1                1.937                2.176                1.798   \n2                4.362                6.957                4.933   \n3               12.091               41.125               23.667   \n4                  0.9               -1.121                2.356   \n\n  infl_end_prices_2018 infl_end_prices_2019 infl_end_prices_2020  \\\n0                0.755                2.773                  4.5   \n1                1.799                 1.15                  2.6   \n2                2.702                2.434                  3.3   \n3               18.604               16.893               20.979   \n4                1.741                1.574                1.348   \n\n  infl_end_prices_2021 infl_end_prices_Estimates Start After  \n0                    5                                2018.0  \n1                  2.9                                2019.0  \n2                    4                                2019.0  \n3               23.981                                2019.0  \n4                2.008                                2018.0  \n\n[5 rows x 43 columns]",
      "text/html": "<div>\n<style scoped>\n    .dataframe tbody tr th:only-of-type {\n        vertical-align: middle;\n    }\n\n    .dataframe tbody tr th {\n        vertical-align: top;\n    }\n\n    .dataframe thead th {\n        text-align: right;\n    }\n</style>\n<table border=\"1\" class=\"dataframe\">\n  <thead>\n    <tr style=\"text-align: right;\">\n      <th></th>\n      <th>infl_end_prices_1980</th>\n      <th>infl_end_prices_1981</th>\n      <th>infl_end_prices_1982</th>\n      <th>infl_end_prices_1983</th>\n      <th>infl_end_prices_1984</th>\n      <th>infl_end_prices_1985</th>\n      <th>infl_end_prices_1986</th>\n      <th>infl_end_prices_1987</th>\n      <th>infl_end_prices_1988</th>\n      <th>infl_end_prices_1989</th>\n      <th>...</th>\n      <th>infl_end_prices_2013</th>\n      <th>infl_end_prices_2014</th>\n      <th>infl_end_prices_2015</th>\n      <th>infl_end_prices_2016</th>\n      <th>infl_end_prices_2017</th>\n      <th>infl_end_prices_2018</th>\n      <th>infl_end_prices_2019</th>\n      <th>infl_end_prices_2020</th>\n      <th>infl_end_prices_2021</th>\n      <th>infl_end_prices_Estimates Start After</th>\n    </tr>\n  </thead>\n  <tbody>\n    <tr>\n      <th>0</th>\n      <td>NaN</td>\n      <td>NaN</td>\n      <td>NaN</td>\n      <td>NaN</td>\n      <td>NaN</td>\n      <td>NaN</td>\n      <td>NaN</td>\n      <td>NaN</td>\n      <td>NaN</td>\n      <td>NaN</td>\n      <td>...</td>\n      <td>7.241</td>\n      <td>1.487</td>\n      <td>1.131</td>\n      <td>4.588</td>\n      <td>3.041</td>\n      <td>0.755</td>\n      <td>2.773</td>\n      <td>4.5</td>\n      <td>5</td>\n      <td>2018.0</td>\n    </tr>\n    <tr>\n      <th>1</th>\n      <td>NaN</td>\n      <td>NaN</td>\n      <td>NaN</td>\n      <td>NaN</td>\n      <td>NaN</td>\n      <td>NaN</td>\n      <td>NaN</td>\n      <td>NaN</td>\n      <td>NaN</td>\n      <td>NaN</td>\n      <td>...</td>\n      <td>1.776</td>\n      <td>0.719</td>\n      <td>1.937</td>\n      <td>2.176</td>\n      <td>1.798</td>\n      <td>1.799</td>\n      <td>1.15</td>\n      <td>2.6</td>\n      <td>2.9</td>\n      <td>2019.0</td>\n    </tr>\n    <tr>\n      <th>2</th>\n      <td>14.143</td>\n      <td>6.632</td>\n      <td>5.251</td>\n      <td>12.695</td>\n      <td>10.662</td>\n      <td>12.458</td>\n      <td>11.891</td>\n      <td>3.168</td>\n      <td>8.637</td>\n      <td>10.718</td>\n      <td>...</td>\n      <td>1.148</td>\n      <td>5.253</td>\n      <td>4.362</td>\n      <td>6.957</td>\n      <td>4.933</td>\n      <td>2.702</td>\n      <td>2.434</td>\n      <td>3.3</td>\n      <td>4</td>\n      <td>2019.0</td>\n    </tr>\n    <tr>\n      <th>3</th>\n      <td>NaN</td>\n      <td>1.833</td>\n      <td>1.833</td>\n      <td>1.833</td>\n      <td>1.833</td>\n      <td>1.833</td>\n      <td>1.833</td>\n      <td>1.833</td>\n      <td>1.833</td>\n      <td>1.833</td>\n      <td>...</td>\n      <td>7.687</td>\n      <td>7.498</td>\n      <td>12.091</td>\n      <td>41.125</td>\n      <td>23.667</td>\n      <td>18.604</td>\n      <td>16.893</td>\n      <td>20.979</td>\n      <td>23.981</td>\n      <td>2019.0</td>\n    </tr>\n    <tr>\n      <th>4</th>\n      <td>17.71</td>\n      <td>7.16</td>\n      <td>2.617</td>\n      <td>3.114</td>\n      <td>3.219</td>\n      <td>-0.721</td>\n      <td>1.967</td>\n      <td>5.822</td>\n      <td>5.518</td>\n      <td>4.88</td>\n      <td>...</td>\n      <td>1.059</td>\n      <td>1.327</td>\n      <td>0.9</td>\n      <td>-1.121</td>\n      <td>2.356</td>\n      <td>1.741</td>\n      <td>1.574</td>\n      <td>1.348</td>\n      <td>2.008</td>\n      <td>2018.0</td>\n    </tr>\n  </tbody>\n</table>\n<p>5 rows × 43 columns</p>\n</div>"
     },
     "metadata": {},
     "execution_count": 26
    }
   ],
   "source": [
    "#dataframe with inflation using end of period prices information\n",
    "df_infl_end_prices = df[df[\"Subject Descriptor\"]==\"Inflation, end of period consumer prices\"]\n",
    "df_infl_end_prices.sort_values(by=\"Country\", inplace = True)\n",
    "\n",
    "print(df_infl_end_prices[\"Units\"].unique())\n",
    "print(len(df_infl_end_prices))\n",
    "df_infl_end_prices.columns = ['infl_end_prices_' + str(col) for col in df_infl_end_prices.columns]\n",
    "df_infl_end_prices.drop(['infl_end_prices_WEO Country Code', 'infl_end_prices_ISO',\n",
    "       'infl_end_prices_WEO Subject Code', 'infl_end_prices_Country',\n",
    "       'infl_end_prices_Subject Descriptor', 'infl_end_prices_Subject Notes',\n",
    "       'infl_end_prices_Units', 'infl_end_prices_Scale',\n",
    "       'infl_end_prices_Country/Series-specific Notes'], inplace =True, axis = 1)\n",
    "print(df_infl_end_prices.columns)\n",
    "df_infl_end_prices.reset_index(inplace = True)\n",
    "df_infl_end_prices = df_infl_end_prices.reindex(range(0,194))\n",
    "df_infl_end_prices.drop(['index'],inplace = True, axis =1 )\n",
    "df_infl_end_prices.head(5)\n"
   ]
  },
  {
   "cell_type": "code",
   "execution_count": 27,
   "metadata": {
    "tags": []
   },
   "outputs": [
    {
     "output_type": "stream",
     "name": "stdout",
     "text": "[&#39;Percent of total labor force&#39;]\n194\nIndex([&#39;unemployment_1980&#39;, &#39;unemployment_1981&#39;, &#39;unemployment_1982&#39;,\n       &#39;unemployment_1983&#39;, &#39;unemployment_1984&#39;, &#39;unemployment_1985&#39;,\n       &#39;unemployment_1986&#39;, &#39;unemployment_1987&#39;, &#39;unemployment_1988&#39;,\n       &#39;unemployment_1989&#39;, &#39;unemployment_1990&#39;, &#39;unemployment_1991&#39;,\n       &#39;unemployment_1992&#39;, &#39;unemployment_1993&#39;, &#39;unemployment_1994&#39;,\n       &#39;unemployment_1995&#39;, &#39;unemployment_1996&#39;, &#39;unemployment_1997&#39;,\n       &#39;unemployment_1998&#39;, &#39;unemployment_1999&#39;, &#39;unemployment_2000&#39;,\n       &#39;unemployment_2001&#39;, &#39;unemployment_2002&#39;, &#39;unemployment_2003&#39;,\n       &#39;unemployment_2004&#39;, &#39;unemployment_2005&#39;, &#39;unemployment_2006&#39;,\n       &#39;unemployment_2007&#39;, &#39;unemployment_2008&#39;, &#39;unemployment_2009&#39;,\n       &#39;unemployment_2010&#39;, &#39;unemployment_2011&#39;, &#39;unemployment_2012&#39;,\n       &#39;unemployment_2013&#39;, &#39;unemployment_2014&#39;, &#39;unemployment_2015&#39;,\n       &#39;unemployment_2016&#39;, &#39;unemployment_2017&#39;, &#39;unemployment_2018&#39;,\n       &#39;unemployment_2019&#39;, &#39;unemployment_2020&#39;, &#39;unemployment_2021&#39;,\n       &#39;unemployment_Estimates Start After&#39;],\n      dtype=&#39;object&#39;)\n"
    },
    {
     "output_type": "execute_result",
     "data": {
      "text/plain": "  unemployment_1980 unemployment_1981 unemployment_1982 unemployment_1983  \\\n0               NaN               NaN               NaN               NaN   \n1             5.028             4.224             2.813             3.335   \n2            15.789            15.385                15            14.286   \n3               NaN               NaN               NaN               NaN   \n4               NaN               NaN               NaN               NaN   \n\n  unemployment_1984 unemployment_1985 unemployment_1986 unemployment_1987  \\\n0               NaN               NaN               NaN               NaN   \n1              4.41             5.853              5.43             5.164   \n2            16.536            16.901            18.356            20.056   \n3               NaN               NaN               NaN               NaN   \n4               NaN               NaN               NaN               NaN   \n\n  unemployment_1988 unemployment_1989  ... unemployment_2013  \\\n0               NaN               NaN  ...               NaN   \n1             6.033             6.721  ...              15.9   \n2            21.801              18.1  ...             9.829   \n3               NaN               NaN  ...               NaN   \n4               NaN               NaN  ...               NaN   \n\n  unemployment_2014 unemployment_2015 unemployment_2016 unemployment_2017  \\\n0               NaN               NaN               NaN               NaN   \n1              17.5              17.1              15.2              13.7   \n2              10.6            11.214            10.498            11.709   \n3               NaN               NaN               NaN               NaN   \n4               NaN               NaN               NaN               NaN   \n\n  unemployment_2018 unemployment_2019 unemployment_2020 unemployment_2021  \\\n0               NaN               NaN               NaN               NaN   \n1              12.3                12              11.8              11.5   \n2            11.731            11.383            15.091            13.909   \n3               NaN               NaN               NaN               NaN   \n4               NaN               NaN               NaN               NaN   \n\n  unemployment_Estimates Start After  \n0                                NaN  \n1                             2019.0  \n2                             2019.0  \n3                                NaN  \n4                                NaN  \n\n[5 rows x 43 columns]",
      "text/html": "<div>\n<style scoped>\n    .dataframe tbody tr th:only-of-type {\n        vertical-align: middle;\n    }\n\n    .dataframe tbody tr th {\n        vertical-align: top;\n    }\n\n    .dataframe thead th {\n        text-align: right;\n    }\n</style>\n<table border=\"1\" class=\"dataframe\">\n  <thead>\n    <tr style=\"text-align: right;\">\n      <th></th>\n      <th>unemployment_1980</th>\n      <th>unemployment_1981</th>\n      <th>unemployment_1982</th>\n      <th>unemployment_1983</th>\n      <th>unemployment_1984</th>\n      <th>unemployment_1985</th>\n      <th>unemployment_1986</th>\n      <th>unemployment_1987</th>\n      <th>unemployment_1988</th>\n      <th>unemployment_1989</th>\n      <th>...</th>\n      <th>unemployment_2013</th>\n      <th>unemployment_2014</th>\n      <th>unemployment_2015</th>\n      <th>unemployment_2016</th>\n      <th>unemployment_2017</th>\n      <th>unemployment_2018</th>\n      <th>unemployment_2019</th>\n      <th>unemployment_2020</th>\n      <th>unemployment_2021</th>\n      <th>unemployment_Estimates Start After</th>\n    </tr>\n  </thead>\n  <tbody>\n    <tr>\n      <th>0</th>\n      <td>NaN</td>\n      <td>NaN</td>\n      <td>NaN</td>\n      <td>NaN</td>\n      <td>NaN</td>\n      <td>NaN</td>\n      <td>NaN</td>\n      <td>NaN</td>\n      <td>NaN</td>\n      <td>NaN</td>\n      <td>...</td>\n      <td>NaN</td>\n      <td>NaN</td>\n      <td>NaN</td>\n      <td>NaN</td>\n      <td>NaN</td>\n      <td>NaN</td>\n      <td>NaN</td>\n      <td>NaN</td>\n      <td>NaN</td>\n      <td>NaN</td>\n    </tr>\n    <tr>\n      <th>1</th>\n      <td>5.028</td>\n      <td>4.224</td>\n      <td>2.813</td>\n      <td>3.335</td>\n      <td>4.41</td>\n      <td>5.853</td>\n      <td>5.43</td>\n      <td>5.164</td>\n      <td>6.033</td>\n      <td>6.721</td>\n      <td>...</td>\n      <td>15.9</td>\n      <td>17.5</td>\n      <td>17.1</td>\n      <td>15.2</td>\n      <td>13.7</td>\n      <td>12.3</td>\n      <td>12</td>\n      <td>11.8</td>\n      <td>11.5</td>\n      <td>2019.0</td>\n    </tr>\n    <tr>\n      <th>2</th>\n      <td>15.789</td>\n      <td>15.385</td>\n      <td>15</td>\n      <td>14.286</td>\n      <td>16.536</td>\n      <td>16.901</td>\n      <td>18.356</td>\n      <td>20.056</td>\n      <td>21.801</td>\n      <td>18.1</td>\n      <td>...</td>\n      <td>9.829</td>\n      <td>10.6</td>\n      <td>11.214</td>\n      <td>10.498</td>\n      <td>11.709</td>\n      <td>11.731</td>\n      <td>11.383</td>\n      <td>15.091</td>\n      <td>13.909</td>\n      <td>2019.0</td>\n    </tr>\n    <tr>\n      <th>3</th>\n      <td>NaN</td>\n      <td>NaN</td>\n      <td>NaN</td>\n      <td>NaN</td>\n      <td>NaN</td>\n      <td>NaN</td>\n      <td>NaN</td>\n      <td>NaN</td>\n      <td>NaN</td>\n      <td>NaN</td>\n      <td>...</td>\n      <td>NaN</td>\n      <td>NaN</td>\n      <td>NaN</td>\n      <td>NaN</td>\n      <td>NaN</td>\n      <td>NaN</td>\n      <td>NaN</td>\n      <td>NaN</td>\n      <td>NaN</td>\n      <td>NaN</td>\n    </tr>\n    <tr>\n      <th>4</th>\n      <td>NaN</td>\n      <td>NaN</td>\n      <td>NaN</td>\n      <td>NaN</td>\n      <td>NaN</td>\n      <td>NaN</td>\n      <td>NaN</td>\n      <td>NaN</td>\n      <td>NaN</td>\n      <td>NaN</td>\n      <td>...</td>\n      <td>NaN</td>\n      <td>NaN</td>\n      <td>NaN</td>\n      <td>NaN</td>\n      <td>NaN</td>\n      <td>NaN</td>\n      <td>NaN</td>\n      <td>NaN</td>\n      <td>NaN</td>\n      <td>NaN</td>\n    </tr>\n  </tbody>\n</table>\n<p>5 rows × 43 columns</p>\n</div>"
     },
     "metadata": {},
     "execution_count": 27
    }
   ],
   "source": [
    "#dataframe with unemployment rate information\n",
    "df_unemployment = df[df[\"Subject Descriptor\"]==\"Unemployment rate\"]\n",
    "print(df_unemployment[\"Units\"].unique())\n",
    "df_unemployment.sort_values(by=\"Country\", inplace = True)\n",
    "print(len(df_unemployment))\n",
    "df_unemployment.columns = ['unemployment_' + str(col) for col in df_unemployment.columns]\n",
    "df_unemployment.drop(['unemployment_WEO Country Code', 'unemployment_ISO',\n",
    "       'unemployment_WEO Subject Code', 'unemployment_Country',\n",
    "       'unemployment_Subject Descriptor', 'unemployment_Subject Notes',\n",
    "       'unemployment_Units', 'unemployment_Scale',\n",
    "       'unemployment_Country/Series-specific Notes'], inplace = True, axis = 1)\n",
    "print(df_unemployment.columns)\n",
    "df_unemployment.reset_index(inplace = True)\n",
    "df_unemployment = df_unemployment.reindex(range(0,194))\n",
    "df_unemployment.drop(['index'],inplace = True, axis =1 )\n",
    "df_unemployment.head(5)"
   ]
  },
  {
   "cell_type": "code",
   "execution_count": 28,
   "metadata": {
    "tags": []
   },
   "outputs": [
    {
     "output_type": "stream",
     "name": "stdout",
     "text": "[&#39;Percent of GDP&#39;]\n194\nIndex([&#39;net_lend_borrow_1980&#39;, &#39;net_lend_borrow_1981&#39;, &#39;net_lend_borrow_1982&#39;,\n       &#39;net_lend_borrow_1983&#39;, &#39;net_lend_borrow_1984&#39;, &#39;net_lend_borrow_1985&#39;,\n       &#39;net_lend_borrow_1986&#39;, &#39;net_lend_borrow_1987&#39;, &#39;net_lend_borrow_1988&#39;,\n       &#39;net_lend_borrow_1989&#39;, &#39;net_lend_borrow_1990&#39;, &#39;net_lend_borrow_1991&#39;,\n       &#39;net_lend_borrow_1992&#39;, &#39;net_lend_borrow_1993&#39;, &#39;net_lend_borrow_1994&#39;,\n       &#39;net_lend_borrow_1995&#39;, &#39;net_lend_borrow_1996&#39;, &#39;net_lend_borrow_1997&#39;,\n       &#39;net_lend_borrow_1998&#39;, &#39;net_lend_borrow_1999&#39;, &#39;net_lend_borrow_2000&#39;,\n       &#39;net_lend_borrow_2001&#39;, &#39;net_lend_borrow_2002&#39;, &#39;net_lend_borrow_2003&#39;,\n       &#39;net_lend_borrow_2004&#39;, &#39;net_lend_borrow_2005&#39;, &#39;net_lend_borrow_2006&#39;,\n       &#39;net_lend_borrow_2007&#39;, &#39;net_lend_borrow_2008&#39;, &#39;net_lend_borrow_2009&#39;,\n       &#39;net_lend_borrow_2010&#39;, &#39;net_lend_borrow_2011&#39;, &#39;net_lend_borrow_2012&#39;,\n       &#39;net_lend_borrow_2013&#39;, &#39;net_lend_borrow_2014&#39;, &#39;net_lend_borrow_2015&#39;,\n       &#39;net_lend_borrow_2016&#39;, &#39;net_lend_borrow_2017&#39;, &#39;net_lend_borrow_2018&#39;,\n       &#39;net_lend_borrow_2019&#39;, &#39;net_lend_borrow_2020&#39;, &#39;net_lend_borrow_2021&#39;,\n       &#39;net_lend_borrow_Estimates Start After&#39;],\n      dtype=&#39;object&#39;)\n"
    },
    {
     "output_type": "execute_result",
     "data": {
      "text/plain": "&lt;bound method NDFrame.head of     WEO Country Code  ISO WEO Subject Code            Country  \\\n0                512  AFG        NGDP_RPCH        Afghanistan   \n1                512  AFG           PPPGDP        Afghanistan   \n2                512  AFG    NGDPRPPPPCPCH        Afghanistan   \n3                512  AFG          PCPIPCH        Afghanistan   \n4                512  AFG         PCPIEPCH        Afghanistan   \n..               ...  ...              ...                ...   \n189              223  BRA              LUR             Brazil   \n190              223  BRA      GGXCNL_NGDP             Brazil   \n191              223  BRA        BCA_NGDPD             Brazil   \n192              516  BRN        NGDP_RPCH  Brunei Darussalam   \n193              516  BRN           PPPGDP  Brunei Darussalam   \n\n                                    Subject Descriptor  \\\n0              Gross domestic product, constant prices   \n1               Gross domestic product, current prices   \n2    Gross domestic product per capita, constant pr...   \n3                   Inflation, average consumer prices   \n4             Inflation, end of period consumer prices   \n..                                                 ...   \n189                                  Unemployment rate   \n190           General government net lending/borrowing   \n191                            Current account balance   \n192            Gross domestic product, constant prices   \n193             Gross domestic product, current prices   \n\n                                         Subject Notes  \\\n0    Annual percentages of constant price GDP are y...   \n1    These data form the basis for the country weig...   \n2    GDP is expressed in constant international dol...   \n3    Annual percentages of average consumer prices ...   \n4     Annual percentages of end of period consumer ...   \n..                                                 ...   \n189  Unemployment rate can be defined by either the...   \n190  Net lending (+)/ borrowing (?) is calculated a...   \n191  Current account is all transactions other than...   \n192  Annual percentages of constant price GDP are y...   \n193  These data form the basis for the country weig...   \n\n                                              Units     Scale  \\\n0                                    Percent change       NaN   \n1    Purchasing power parity; international dollars  Billions   \n2           Purchasing power parity; percent change       NaN   \n3                                    Percent change       NaN   \n4                                    Percent change       NaN   \n..                                              ...       ...   \n189                    Percent of total labor force       NaN   \n190                                  Percent of GDP       NaN   \n191                                  Percent of GDP       NaN   \n192                                  Percent change       NaN   \n193  Purchasing power parity; international dollars  Billions   \n\n                         Country/Series-specific Notes    1980  ...    2013  \\\n0    Source: National Statistics Office Latest actu...     NaN  ...   5.683   \n1    Source: National Statistics Office Latest actu...     NaN  ...  60.181   \n2    Source: National Statistics Office Latest actu...     NaN  ...   2.236   \n3    Source: National Statistics Office Latest actu...     NaN  ...   7.386   \n4    Source: National Statistics Office Latest actu...     NaN  ...   7.241   \n..                                                 ...     ...  ...     ...   \n189  Source: National Statistics Office Latest actu...     NaN  ...     7.2   \n190  Source: Ministry of Finance or Treasury Latest...     NaN  ...  -2.955   \n191  Source: Central Bank Latest actual data: 2018 ...  -8.786  ...  -3.228   \n192  Source: National Statistics Office. Department...     NaN  ...  -2.125   \n193  Source: National Statistics Office. Department...     NaN  ...  33.269   \n\n       2014     2015    2016    2017    2018    2019    2020    2021  \\\n0     2.697    0.988   2.164   2.889   2.664   3.037  -3.007   4.495   \n1    62.948   64.231  66.301  69.501  73.091  76.624  74.792  79.678   \n2    -0.521   -1.941  -0.547   0.358   1.268   1.654  -4.291   3.063   \n3     4.674   -0.662   4.384   4.976   0.626   2.302   4.711   4.451   \n4     1.487    1.131   4.588   3.041   0.755   2.773     4.5       5   \n..      ...      ...     ...     ...     ...     ...     ...     ...   \n189   6.783    8.283  11.258  12.767  12.258  11.925    14.7    13.5   \n190  -6.021  -10.254  -8.994   -7.86  -7.166  -6.017  -9.349  -6.132   \n191   -4.13   -3.026  -1.349  -0.728  -2.204   -2.69  -1.771  -2.306   \n192  -2.508   -0.405  -2.465   1.327   0.053   3.869   1.297   3.541   \n193  33.035   33.244   32.76   33.82  34.662  36.631  37.342  39.418   \n\n    Estimates Start After  \n0                  2018.0  \n1                  2018.0  \n2                  2018.0  \n3                  2018.0  \n4                  2018.0  \n..                    ...  \n189                2019.0  \n190                2019.0  \n191                2018.0  \n192                2019.0  \n193                2019.0  \n\n[194 rows x 52 columns]&gt;"
     },
     "metadata": {},
     "execution_count": 28
    }
   ],
   "source": [
    "#dataframe with general government net lending/borrowing information\n",
    "df_net_lending_borrowing = df[df[\"Subject Descriptor\"]==\"General government net lending/borrowing\"]\n",
    "print(df_net_lending_borrowing[\"Units\"].unique())\n",
    "print(len(df_net_lending_borrowing))\n",
    "df_net_lending_borrowing.sort_values(by=\"Country\", inplace = True)\n",
    "df_net_lending_borrowing.columns = ['net_lend_borrow_' + str(col) for col in df_net_lending_borrowing.columns]\n",
    "df_net_lending_borrowing.drop(['net_lend_borrow_WEO Country Code', 'net_lend_borrow_ISO',\n",
    "       'net_lend_borrow_WEO Subject Code', 'net_lend_borrow_Country',\n",
    "       'net_lend_borrow_Subject Descriptor', 'net_lend_borrow_Subject Notes',\n",
    "       'net_lend_borrow_Units', 'net_lend_borrow_Scale',\n",
    "       'net_lend_borrow_Country/Series-specific Notes'], inplace = True, axis = 1)\n",
    "print(df_net_lending_borrowing.columns)\n",
    "df_net_lending_borrowing.reset_index(inplace = True)\n",
    "df_net_lending_borrowing = df.reindex(range(0,194))\n",
    "df_net_lending_borrowing.head"
   ]
  },
  {
   "cell_type": "code",
   "execution_count": 29,
   "metadata": {
    "tags": []
   },
   "outputs": [
    {
     "output_type": "stream",
     "name": "stdout",
     "text": "[&#39;Percent of GDP&#39;]\n194\nIndex([&#39;acc_bal_1980&#39;, &#39;acc_bal_1981&#39;, &#39;acc_bal_1982&#39;, &#39;acc_bal_1983&#39;,\n       &#39;acc_bal_1984&#39;, &#39;acc_bal_1985&#39;, &#39;acc_bal_1986&#39;, &#39;acc_bal_1987&#39;,\n       &#39;acc_bal_1988&#39;, &#39;acc_bal_1989&#39;, &#39;acc_bal_1990&#39;, &#39;acc_bal_1991&#39;,\n       &#39;acc_bal_1992&#39;, &#39;acc_bal_1993&#39;, &#39;acc_bal_1994&#39;, &#39;acc_bal_1995&#39;,\n       &#39;acc_bal_1996&#39;, &#39;acc_bal_1997&#39;, &#39;acc_bal_1998&#39;, &#39;acc_bal_1999&#39;,\n       &#39;acc_bal_2000&#39;, &#39;acc_bal_2001&#39;, &#39;acc_bal_2002&#39;, &#39;acc_bal_2003&#39;,\n       &#39;acc_bal_2004&#39;, &#39;acc_bal_2005&#39;, &#39;acc_bal_2006&#39;, &#39;acc_bal_2007&#39;,\n       &#39;acc_bal_2008&#39;, &#39;acc_bal_2009&#39;, &#39;acc_bal_2010&#39;, &#39;acc_bal_2011&#39;,\n       &#39;acc_bal_2012&#39;, &#39;acc_bal_2013&#39;, &#39;acc_bal_2014&#39;, &#39;acc_bal_2015&#39;,\n       &#39;acc_bal_2016&#39;, &#39;acc_bal_2017&#39;, &#39;acc_bal_2018&#39;, &#39;acc_bal_2019&#39;,\n       &#39;acc_bal_2020&#39;, &#39;acc_bal_2021&#39;, &#39;acc_bal_Estimates Start After&#39;],\n      dtype=&#39;object&#39;)\n"
    },
    {
     "output_type": "execute_result",
     "data": {
      "text/plain": "  acc_bal_1980 acc_bal_1981 acc_bal_1982 acc_bal_1983 acc_bal_1984  \\\n0          NaN          NaN          NaN          NaN          NaN   \n1        0.054       -0.455       -2.264       -1.583       -1.316   \n2        0.571       -0.472       -0.973       -0.179        0.144   \n3        1.051       -2.947       -7.958       -5.549       -2.488   \n4          NaN          NaN          NaN          NaN          NaN   \n\n  acc_bal_1985 acc_bal_1986 acc_bal_1987 acc_bal_1988 acc_bal_1989  ...  \\\n0          NaN          NaN          NaN          NaN          NaN  ...   \n1       -1.158        0.057        0.265       -0.986       -2.691  ...   \n2         1.66       -3.623        0.223       -3.678       -1.965  ...   \n3        2.306       -3.827        4.939       -4.777       -1.156  ...   \n4          NaN          NaN          NaN          NaN          NaN  ...   \n\n  acc_bal_2013 acc_bal_2014 acc_bal_2015 acc_bal_2016 acc_bal_2017  \\\n0        1.444        6.549        3.709        8.375        7.087   \n1       -9.253      -10.797       -8.609       -7.572       -7.492   \n2        0.398       -4.413      -16.442      -16.542      -13.187   \n3        6.107       -2.572       -8.841       -4.794       -0.518   \n4          NaN        0.267        2.194       -2.428       -7.834   \n\n  acc_bal_2018 acc_bal_2019 acc_bal_2020 acc_bal_2021  \\\n0       12.986        8.591        4.898        5.753   \n1       -6.758       -7.621      -11.226        -8.11   \n2       -9.615       -9.609      -18.278      -17.057   \n3         6.99        2.899       -6.719       -3.017   \n4      -13.638       -7.479      -25.567      -25.269   \n\n  acc_bal_Estimates Start After  \n0                        2018.0  \n1                        2018.0  \n2                        2019.0  \n3                        2018.0  \n4                        2017.0  \n\n[5 rows x 43 columns]",
      "text/html": "<div>\n<style scoped>\n    .dataframe tbody tr th:only-of-type {\n        vertical-align: middle;\n    }\n\n    .dataframe tbody tr th {\n        vertical-align: top;\n    }\n\n    .dataframe thead th {\n        text-align: right;\n    }\n</style>\n<table border=\"1\" class=\"dataframe\">\n  <thead>\n    <tr style=\"text-align: right;\">\n      <th></th>\n      <th>acc_bal_1980</th>\n      <th>acc_bal_1981</th>\n      <th>acc_bal_1982</th>\n      <th>acc_bal_1983</th>\n      <th>acc_bal_1984</th>\n      <th>acc_bal_1985</th>\n      <th>acc_bal_1986</th>\n      <th>acc_bal_1987</th>\n      <th>acc_bal_1988</th>\n      <th>acc_bal_1989</th>\n      <th>...</th>\n      <th>acc_bal_2013</th>\n      <th>acc_bal_2014</th>\n      <th>acc_bal_2015</th>\n      <th>acc_bal_2016</th>\n      <th>acc_bal_2017</th>\n      <th>acc_bal_2018</th>\n      <th>acc_bal_2019</th>\n      <th>acc_bal_2020</th>\n      <th>acc_bal_2021</th>\n      <th>acc_bal_Estimates Start After</th>\n    </tr>\n  </thead>\n  <tbody>\n    <tr>\n      <th>0</th>\n      <td>NaN</td>\n      <td>NaN</td>\n      <td>NaN</td>\n      <td>NaN</td>\n      <td>NaN</td>\n      <td>NaN</td>\n      <td>NaN</td>\n      <td>NaN</td>\n      <td>NaN</td>\n      <td>NaN</td>\n      <td>...</td>\n      <td>1.444</td>\n      <td>6.549</td>\n      <td>3.709</td>\n      <td>8.375</td>\n      <td>7.087</td>\n      <td>12.986</td>\n      <td>8.591</td>\n      <td>4.898</td>\n      <td>5.753</td>\n      <td>2018.0</td>\n    </tr>\n    <tr>\n      <th>1</th>\n      <td>0.054</td>\n      <td>-0.455</td>\n      <td>-2.264</td>\n      <td>-1.583</td>\n      <td>-1.316</td>\n      <td>-1.158</td>\n      <td>0.057</td>\n      <td>0.265</td>\n      <td>-0.986</td>\n      <td>-2.691</td>\n      <td>...</td>\n      <td>-9.253</td>\n      <td>-10.797</td>\n      <td>-8.609</td>\n      <td>-7.572</td>\n      <td>-7.492</td>\n      <td>-6.758</td>\n      <td>-7.621</td>\n      <td>-11.226</td>\n      <td>-8.11</td>\n      <td>2018.0</td>\n    </tr>\n    <tr>\n      <th>2</th>\n      <td>0.571</td>\n      <td>-0.472</td>\n      <td>-0.973</td>\n      <td>-0.179</td>\n      <td>0.144</td>\n      <td>1.66</td>\n      <td>-3.623</td>\n      <td>0.223</td>\n      <td>-3.678</td>\n      <td>-1.965</td>\n      <td>...</td>\n      <td>0.398</td>\n      <td>-4.413</td>\n      <td>-16.442</td>\n      <td>-16.542</td>\n      <td>-13.187</td>\n      <td>-9.615</td>\n      <td>-9.609</td>\n      <td>-18.278</td>\n      <td>-17.057</td>\n      <td>2019.0</td>\n    </tr>\n    <tr>\n      <th>3</th>\n      <td>1.051</td>\n      <td>-2.947</td>\n      <td>-7.958</td>\n      <td>-5.549</td>\n      <td>-2.488</td>\n      <td>2.306</td>\n      <td>-3.827</td>\n      <td>4.939</td>\n      <td>-4.777</td>\n      <td>-1.156</td>\n      <td>...</td>\n      <td>6.107</td>\n      <td>-2.572</td>\n      <td>-8.841</td>\n      <td>-4.794</td>\n      <td>-0.518</td>\n      <td>6.99</td>\n      <td>2.899</td>\n      <td>-6.719</td>\n      <td>-3.017</td>\n      <td>2018.0</td>\n    </tr>\n    <tr>\n      <th>4</th>\n      <td>NaN</td>\n      <td>NaN</td>\n      <td>NaN</td>\n      <td>NaN</td>\n      <td>NaN</td>\n      <td>NaN</td>\n      <td>NaN</td>\n      <td>NaN</td>\n      <td>NaN</td>\n      <td>NaN</td>\n      <td>...</td>\n      <td>NaN</td>\n      <td>0.267</td>\n      <td>2.194</td>\n      <td>-2.428</td>\n      <td>-7.834</td>\n      <td>-13.638</td>\n      <td>-7.479</td>\n      <td>-25.567</td>\n      <td>-25.269</td>\n      <td>2017.0</td>\n    </tr>\n  </tbody>\n</table>\n<p>5 rows × 43 columns</p>\n</div>"
     },
     "metadata": {},
     "execution_count": 29
    }
   ],
   "source": [
    "#dataframe with current account balance information\n",
    "df_acc_bal = df[df[\"Subject Descriptor\"]==\"Current account balance\"]\n",
    "print(df_acc_bal[\"Units\"].unique())\n",
    "df_acc_bal.sort_values(by=\"Country\", inplace = True)\n",
    "print(len(df_acc_bal))\n",
    "df_acc_bal.columns = ['acc_bal_' + str(col) for col in df_acc_bal.columns]\n",
    "df_acc_bal.drop(['acc_bal_WEO Country Code', 'acc_bal_ISO', 'acc_bal_WEO Subject Code',\n",
    "       'acc_bal_Country', 'acc_bal_Subject Descriptor',\n",
    "       'acc_bal_Subject Notes', 'acc_bal_Units', 'acc_bal_Scale',\n",
    "       'acc_bal_Country/Series-specific Notes'], axis = 1, inplace = True)\n",
    "print(df_acc_bal.columns)\n",
    "df_acc_bal.reset_index(inplace= True)\n",
    "df_acc_bal = df_acc_bal.reindex(range(0,194))\n",
    "df_acc_bal.drop(['index'],inplace = True, axis =1 )\n",
    "df_acc_bal.head(5)"
   ]
  },
  {
   "cell_type": "code",
   "execution_count": 30,
   "metadata": {},
   "outputs": [],
   "source": [
    "df_complete = pd.concat([df_save,df_gdp_const,df_gdp_curr,df_gdp_capita,df_infl_avg_prices,df_unemployment,df_acc_bal], axis=1)\n"
   ]
  },
  {
   "cell_type": "code",
   "execution_count": 31,
   "metadata": {},
   "outputs": [],
   "source": [
    "final_path = \"C:/Users/HP/Documents/GitHub/Last-Mile-206/datasets/\"\n",
    "df_complete.to_csv(final_path + 'cdc-data-final.csv')"
   ]
  },
  {
   "cell_type": "code",
   "execution_count": null,
   "metadata": {},
   "outputs": [],
   "source": []
  }
 ]
}