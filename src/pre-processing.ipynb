{
 "metadata": {
  "language_info": {
   "codemirror_mode": {
    "name": "ipython",
    "version": 3
   },
   "file_extension": ".py",
   "mimetype": "text/x-python",
   "name": "python",
   "nbconvert_exporter": "python",
   "pygments_lexer": "ipython3",
   "version": "3.8.6-final"
  },
  "orig_nbformat": 2,
  "kernelspec": {
   "name": "Python 3.8.6 64-bit",
   "display_name": "Python 3.8.6 64-bit",
   "metadata": {
    "interpreter": {
     "hash": "291ada4285d81b7724775da889f1025824cfcf5691e48ef89418ffd1713b1d97"
    }
   }
  }
 },
 "nbformat": 4,
 "nbformat_minor": 2,
 "cells": [
  {
   "cell_type": "code",
   "execution_count": null,
   "metadata": {},
   "outputs": [],
   "source": [
    "import pandas as pd"
   ]
  },
  {
   "cell_type": "code",
   "execution_count": null,
   "metadata": {},
   "outputs": [],
   "source": [
    "path = r\"C:\\Users\\HP\\Documents\\GitHub\\Last-Mile-206\\datasets\\WorldEconomicOutlookData.csv\"\n",
    "df = pd.read_csv(path)"
   ]
  },
  {
   "cell_type": "code",
   "execution_count": null,
   "metadata": {
    "tags": []
   },
   "outputs": [],
   "source": [
    "unique_descriptor = df[\"Subject Descriptor\"].unique()\n",
    "print(unique_descriptor)\n",
    "column_names = df.columns\n",
    "print(column_names)"
   ]
  },
  {
   "cell_type": "code",
   "execution_count": null,
   "metadata": {
    "tags": []
   },
   "outputs": [],
   "source": [
    "#dataframe with GDP,constant prices information\n",
    "df_gdp_const = df[df[\"Subject Descriptor\"]==\"Gross domestic product, constant prices\"]\n",
    "print(df_gdp_const[\"Units\"].unique())\n",
    "df_gdp_const.columns = ['gdp_const_' + str(col) for col in df_gdp_const.columns]\n",
    "print(df_gdp_const.columns)"
   ]
  },
  {
   "cell_type": "code",
   "execution_count": null,
   "metadata": {
    "tags": []
   },
   "outputs": [],
   "source": [
    "#dataframe with GDP,current prices information\n",
    "df_gdp_curr = df[df[\"Subject Descriptor\"]==\"Gross domestic product, current prices\"]\n",
    "print(df_gdp_curr[\"Units\"].unique())\n",
    "df_gdp_curr.columns = ['gdp_curr_' + str(col) for col in df_gdp_curr.columns]\n",
    "print(df_gdp_curr.columns)"
   ]
  },
  {
   "cell_type": "code",
   "execution_count": null,
   "metadata": {
    "tags": []
   },
   "outputs": [],
   "source": [
    "#dataframe with GDP per capita information\n",
    "df_gdp_capita = df[df[\"Subject Descriptor\"]==\"Gross domestic product per capita, constant prices\"]\n",
    "print(df_gdp_capita[\"Units\"].unique())\n",
    "df_gdp_capita.columns = ['gdp_captia_' + str(col) for col in df_gdp_capita.columns]\n",
    "print(df_gdp_capita.columns)"
   ]
  },
  {
   "cell_type": "code",
   "execution_count": null,
   "metadata": {
    "tags": []
   },
   "outputs": [],
   "source": [
    "#dataframe with inflation on average consumer prices information\n",
    "df_infl_avg_prices = df[df[\"Subject Descriptor\"]==\"Inflation, average consumer prices\"]\n",
    "print(df_infl_avg_prices[\"Units\"].unique())\n",
    "df_infl_avg_prices.columns = ['infl_avg_prices_' + str(col) for col in df_infl_avg_prices.columns]\n",
    "print(df_infl_avg_prices.columns)"
   ]
  },
  {
   "cell_type": "code",
   "execution_count": null,
   "metadata": {
    "tags": []
   },
   "outputs": [],
   "source": [
    "#dataframe with inflation using end of period prices information\n",
    "df_infl_end_prices = df[df[\"Subject Descriptor\"]==\"Inflation, end of period consumer prices\"]\n",
    "print(df_infl_end_prices[\"Units\"].unique())\n",
    "df_infl_end_prices.columns = ['infl_end_prices_' + str(col) for col in df_infl_end_prices.columns]\n",
    "print(df_infl_end_prices.columns)"
   ]
  },
  {
   "cell_type": "code",
   "execution_count": null,
   "metadata": {
    "tags": []
   },
   "outputs": [],
   "source": [
    "#dataframe with unemployment rate information\n",
    "df_unemployment = df[df[\"Subject Descriptor\"]==\"Unemployment rate\"]\n",
    "print(df_unemployment[\"Units\"].unique())\n",
    "df_unemployment.columns = ['unemployment_' + str(col) for col in df_unemployment.columns]\n",
    "print(df_unemployment.columns)"
   ]
  },
  {
   "cell_type": "code",
   "execution_count": null,
   "metadata": {
    "tags": []
   },
   "outputs": [],
   "source": [
    "#dataframe with general government net lending/borrowing information\n",
    "df_net_lending_borrowing = df[df[\"Subject Descriptor\"]==\"General government net lending/borrowing\"]\n",
    "print(df_net_lending_borrowing[\"Units\"].unique())\n",
    "df_net_lending_borrowing.columns = ['net_lend_borrow_' + str(col) for col in df_net_lending_borrowing.columns]\n",
    "print(df_net_lending_borrowing.columns)"
   ]
  },
  {
   "cell_type": "code",
   "execution_count": null,
   "metadata": {
    "tags": []
   },
   "outputs": [],
   "source": [
    "#dataframe with current account balance information\n",
    "df_acc_bal = df[df[\"Subject Descriptor\"]==\"Current account balance\"]\n",
    "print(df_acc_bal[\"Units\"].unique())\n",
    "df_acc_bal.columns = ['acc_bal_' + str(col) for col in df_acc_bal.columns]\n",
    "print(df_acc_bal.columns)"
   ]
  },
  {
   "cell_type": "code",
   "execution_count": null,
   "metadata": {},
   "outputs": [],
   "source": [
    "df_complete = pd.concat([df_gdp_const,df_gdp_curr,df_gdp_capita,df_infl_avg_prices,df_infl_end_prices,df_net_lending_borrowing,df_unemployment,df_acc_bal], axis=1).reindex(df_gdp_const.index)"
   ]
  },
  {
   "cell_type": "code",
   "execution_count": 57,
   "metadata": {},
   "outputs": [],
   "source": [
    "final_path = \"C:/Users/HP/Documents/GitHub/Last-Mile-206/datasets/\"\n",
    "df_complete.to_csv(final_path + 'cdc-data.csv')"
   ]
  },
  {
   "cell_type": "code",
   "execution_count": null,
   "metadata": {},
   "outputs": [],
   "source": []
  }
 ]
}